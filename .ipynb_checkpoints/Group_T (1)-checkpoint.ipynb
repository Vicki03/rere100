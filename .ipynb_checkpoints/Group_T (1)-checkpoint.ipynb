{
 "cells": [
  {
   "cell_type": "markdown",
   "id": "a95fe64e-77b8-44e6-83fe-59dd04f433ee",
   "metadata": {},
   "source": [
    "## Group_T"
   ]
  },
  {
   "cell_type": "markdown",
   "id": "f6fbb8cb-aa40-43cb-a4ee-03c58135e82e",
   "metadata": {
    "jp-MarkdownHeadingCollapsed": true
   },
   "source": [
    "### Sophie Onuki"
   ]
  },
  {
   "cell_type": "markdown",
   "id": "53964e6b-7bfa-4495-b2ca-73322b925013",
   "metadata": {},
   "source": [
    "#### Section A Part A\n",
    "\n",
    "#### Task 1: Decision Tree"
   ]
  },
  {
   "cell_type": "code",
   "execution_count": null,
   "id": "92243ebc-5f41-4975-879d-ee16e2c1c6f5",
   "metadata": {},
   "outputs": [],
   "source": [
    "# QUESTION 1\n",
    "\n",
    "import pandas as pd\n",
    "import numpy as np\n",
    "import matplotlib.pyplot as plt\n",
    "from sklearn.tree import DecisionTreeRegressor\n",
    "from sklearn.metrics import mean_squared_error\n",
    "\n",
    "# Loading all three datasets\n",
    "partA_df = pd.read_csv('partA.csv')\n",
    "new_input_df = pd.read_csv('new_input_data.csv')\n",
    "new_output_df = pd.read_csv('new_output_data.csv')\n",
    "\n",
    "# input and output features\n",
    "X = partA_df.loc[:, partA_df.columns.str.startswith('in_')] # in features\n",
    "y = partA_df.loc[:, partA_df.columns.str.startswith('out_')] # out features\n",
    "\n",
    "# Create and train the Decision Tree model with a max_depth of 6 to prevent overfitting\n",
    "dt_model = DecisionTreeRegressor(max_depth=6, random_state=42) # max_depth = 6\n",
    "dt_model.fit(X, y)\n",
    "\n",
    "# Predicting the output from the new_input_sf\n",
    "y_pred_dt = dt_model.predict(new_input_df)\n",
    "\n",
    "# Calculate the mean squared error between predictions and actual values\n",
    "dt_mse = mean_squared_error(new_output_df, y_pred_dt)\n",
    "print(f\"Decision Tree Test MSE: {dt_mse:.4f}\")\n",
    "\n",
    "# Plotting a scatter plot to visualize prediction accuracy for all outputs combined\n",
    "true_all = new_output_df.values.flatten()\n",
    "pred_all = y_pred_dt.flatten()\n",
    "\n",
    "plt.figure(figsize=(6, 6))\n",
    "plt.scatter(true_all, pred_all, alpha=0.5, s=20)\n",
    "plt.plot([true_all.min(), true_all.max()], [true_all.min(), true_all.max()], 'r--')\n",
    "plt.xlabel(\"True Values (All Outputs)\")\n",
    "plt.ylabel(\"Predicted Values (All Outputs)\")\n",
    "plt.title(\"Decision Tree: True vs Predicted\")\n",
    "plt.grid(True)\n",
    "plt.tight_layout()\n",
    "plt.show()  # This line is now fixed\n"
   ]
  },
  {
   "cell_type": "markdown",
   "id": "c1a2713e-cca7-4fe4-8e48-f255cf1f3ca5",
   "metadata": {},
   "source": [
    "#### Task 2"
   ]
  },
  {
   "cell_type": "code",
   "execution_count": null,
   "id": "bd8390f6-a469-4aea-adca-b57410081de2",
   "metadata": {},
   "outputs": [],
   "source": [
    "# QUESTION 2\n",
    "\n",
    "from sklearn.model_selection import cross_val_score, KFold\n",
    "from sklearn.multioutput import MultiOutputRegressor\n",
    "from sklearn.metrics import make_scorer, mean_squared_error\n",
    "from sklearn.neural_network import MLPRegressor\n",
    "from sklearn.preprocessing import StandardScaler\n",
    "import pandas as pd\n",
    "\n",
    "# Load data\n",
    "partA_df = pd.read_csv('partA.csv')\n",
    "X = partA_df.loc[:, partA_df.columns.str.startswith('in_')]\n",
    "y = partA_df.loc[:, partA_df.columns.str.startswith('out_')]\n",
    "\n",
    "# Scale\n",
    "scaler = StandardScaler()\n",
    "X_scaled = scaler.fit_transform(X)\n",
    "\n",
    "# Scoring\n",
    "cv = KFold(n_splits=10, shuffle=True, random_state=42)\n",
    "mse_scorer = make_scorer(mean_squared_error, multioutput='uniform_average')\n",
    "\n",
    "# MLP Model\n",
    "mlp_model = MultiOutputRegressor(\n",
    "    MLPRegressor(hidden_layer_sizes=(256, 128),\n",
    "                 max_iter=500,  # reduce for speed\n",
    "                 early_stopping=True,\n",
    "                 n_iter_no_change=10,\n",
    "                 random_state=42)\n",
    ")\n",
    "\n",
    "# Run CV\n",
    "mlp_scores = cross_val_score(mlp_model, X_scaled, y, cv=cv, scoring=mse_scorer, n_jobs=-1)\n",
    "print(f\"MLP CV MSE (10-fold): {mlp_scores.mean():.4f}\")\n"
   ]
  },
  {
   "cell_type": "markdown",
   "id": "dd6e2e4b-cd7d-40b1-ab8c-3226f995a257",
   "metadata": {},
   "source": [
    "#### Task 3"
   ]
  },
  {
   "cell_type": "code",
   "execution_count": null,
   "id": "14260536-9519-437a-a5ba-a92ec0eb875f",
   "metadata": {},
   "outputs": [],
   "source": [
    "# QUESTION 3\n",
    "\n",
    "import pandas as pd\n",
    "import numpy as np\n",
    "from sklearn.model_selection import cross_val_score, KFold\n",
    "from sklearn.metrics import make_scorer, mean_squared_error\n",
    "from sklearn.tree import DecisionTreeRegressor\n",
    "from sklearn.neural_network import MLPRegressor\n",
    "from sklearn.multioutput import MultiOutputRegressor\n",
    "from sklearn.preprocessing import StandardScaler\n",
    "\n",
    "# Load data\n",
    "partA_df = pd.read_csv('partA.csv')\n",
    "X = partA_df.loc[:, partA_df.columns.str.startswith('in_')]\n",
    "y = partA_df.loc[:, partA_df.columns.str.startswith('out_')]\n",
    "\n",
    "# Scale X for MLP\n",
    "scaler = StandardScaler()\n",
    "X_scaled = scaler.fit_transform(X)\n",
    "\n",
    "# Define KFold\n",
    "cv = KFold(n_splits=10, shuffle=True, random_state=42)\n",
    "\n",
    "# Custom scoring (use positive MSE instead of negative)\n",
    "mse_scorer = make_scorer(mean_squared_error, multioutput='uniform_average')\n",
    "\n",
    "dt_model = MultiOutputRegressor(DecisionTreeRegressor(max_depth=6, random_state=42))\n",
    "dt_scores = cross_val_score(dt_model, X, y, cv=cv, scoring=mse_scorer)\n",
    "print(f\"Decision Tree CV MSE (10-fold): {dt_scores.mean():.4f}\")\n",
    "\n",
    "\n",
    "mlp_model = MultiOutputRegressor(\n",
    "    MLPRegressor(hidden_layer_sizes=(256, 128),\n",
    "                 max_iter=500,\n",
    "                 early_stopping=True,\n",
    "                 n_iter_no_change=10,\n",
    "                 random_state=42)\n",
    ")\n",
    "mlp_scores = cross_val_score(mlp_model, X_scaled, y, cv=cv, scoring=mse_scorer)\n",
    "print(f\"MLP CV MSE (10-fold): {mlp_scores.mean():.4f}\")\n"
   ]
  },
  {
   "cell_type": "markdown",
   "id": "ed19c4e6-9e62-4f79-a56d-ca77c551c297",
   "metadata": {},
   "source": [
    "#### Section A Part B"
   ]
  },
  {
   "cell_type": "code",
   "execution_count": 7,
   "id": "11649ac1-d78c-4e9e-9bd5-14ac1f1cbb21",
   "metadata": {},
   "outputs": [
    {
     "data": {
      "image/png": "[encoded data removed]",
      "text/plain": [
       "<Figure size 3600x450 with 12 Axes>"
      ]
     },
     "metadata": {},
     "output_type": "display_data"
    }
   ],
   "source": [
    "from skimage.io import imread\n",
    "from skimage.transform import rotate, resize\n",
    "import matplotlib.pyplot as plt\n",
    "import numpy as np\n",
    "\n",
    "# Load image\n",
    "group_image = imread(\"Group_T.png\")\n",
    "\n",
    "# Grid info\n",
    "rows = 6\n",
    "cols = 9\n",
    "cell_height = group_image.shape[0] // rows\n",
    "cell_width = group_image.shape[1] // cols\n",
    "\n",
    "# Function to slice a cell\n",
    "def get_cell_coords(row, col, trim=5):\n",
    "    y_start = row * cell_height + trim\n",
    "    y_end = (row + 1) * cell_height - trim\n",
    "    x_start = col * cell_width + trim\n",
    "    x_end = (col + 1) * cell_width - trim\n",
    "    return y_start, y_end, x_start, x_end\n",
    "\n",
    "# Coordinates for Sophie Onuki\n",
    "sophie_coords = [(3, 8), (3, 2), (5, 1), (5, 4), (3, 6), (4, 6)]\n",
    "onuki_coords = [(4, 3), (0, 4), (4, 4), (0, 7), (3, 6)]\n",
    "full_coords = sophie_coords + onuki_coords\n",
    "\n",
    "# Rotation angles for your name\n",
    "rotation_angles = [\n",
    "    -30,  # S\n",
    "    -20,  # o\n",
    "    0,    # p\n",
    "    23,   # h\n",
    "    0,    # i\n",
    "    0,    # e\n",
    "    0,    # O\n",
    "    -20,  # n\n",
    "    20,   # u\n",
    "    -30,  # k\n",
    "    -10   # i\n",
    "]\n",
    "\n",
    "# Extract and rotate letters\n",
    "letter_images = []\n",
    "for (r, c), angle in zip(full_coords, rotation_angles):\n",
    "    y1, y2, x1, x2 = get_cell_coords(r, c, trim=5)\n",
    "    letter = group_image[y1:y2, x1:x2]\n",
    "    if angle != 0:\n",
    "        letter = rotate(letter, angle=angle, resize=False, mode='edge')\n",
    "    letter_images.append(letter)\n",
    "\n",
    "# Add slim space between Sophie and Onuki\n",
    "space_img = np.ones((cell_height, cell_width // 6, 3), dtype=np.uint8) * 255\n",
    "sophie = letter_images[:6]\n",
    "onuki = letter_images[6:]\n",
    "letters = sophie + [space_img] + onuki\n",
    "\n",
    "# Resize letters (optional, to uniform height)\n",
    "resized_letters = [resize(letter, (100, int(letter.shape[1] * 100 / letter.shape[0])), anti_aliasing=True)\n",
    "                   for letter in letters]\n",
    "\n",
    "# Plot\n",
    "fig, axes = plt.subplots(1, len(resized_letters), figsize=(len(resized_letters) * 2, 3), dpi=150)\n",
    "if len(resized_letters) == 1:\n",
    "    axes = [axes]\n",
    "\n",
    "for ax, img in zip(axes, resized_letters):\n",
    "    ax.imshow(img)\n",
    "    ax.axis('off')\n",
    "\n",
    "plt.subplots_adjust(wspace=0, hspace=0)\n",
    "plt.tight_layout(pad=0)\n",
    "plt.margins(0, 0)\n"
   ]
  },
  {
   "cell_type": "markdown",
   "id": "3f474a78-3714-47f3-823f-b3dc06e5c00e",
   "metadata": {
    "jp-MarkdownHeadingCollapsed": true
   },
   "source": [
    "### Ong Wei Xuan"
   ]
  },
  {
   "cell_type": "markdown",
   "id": "a8781ed6-a0c9-483c-a136-de7c8237e5c0",
   "metadata": {
    "jp-MarkdownHeadingCollapsed": true
   },
   "source": [
    "#### Section A Part A\n",
    "\n",
    "#### Task 1: Decision Tree \n",
    "\n",
    "To determine the best depth for a Decision Tree, the model's accuracy on the test set is evaluated using depths ranging from 1 to 20. "
   ]
  },
  {
   "cell_type": "code",
   "execution_count": null,
   "id": "40370010-2b3a-4efe-9bb7-cc15c45bfbea",
   "metadata": {},
   "outputs": [],
   "source": [
    "import pandas as pd\n",
    "import numpy as np\n",
    "import matplotlib.pyplot as plt\n",
    "\n",
    "\n",
    "from sklearn import tree\n",
    "from sklearn.model_selection import train_test_split, cross_val_score, KFold\n",
    "from sklearn.tree import DecisionTreeClassifier, DecisionTreeRegressor, plot_tree\n",
    "from sklearn.neural_network import MLPClassifier, MLPRegressor\n",
    "from sklearn.metrics import mean_squared_error, accuracy_score\n",
    "\n",
    "from skimage import io\n",
    "from skimage.transform import resize, rotate\n"
   ]
  },
  {
   "cell_type": "code",
   "execution_count": null,
   "id": "3a3859dc-3851-40a9-8caf-da60e84581fd",
   "metadata": {},
   "outputs": [],
   "source": [
    "partA_data = pd.read_csv('partA.csv')\n",
    "\n",
    "# Separate input and output features\n",
    "input_features = partA_data.filter(like='in_')\n",
    "output_features = partA_data.filter(like='out_')\n",
    "\n",
    "# Load validation datasets\n",
    "new_input_dataset = pd.read_csv('new_input_data.csv')\n",
    "new_output_dataset = pd.read_csv('new_output_data.csv')\n",
    "\n",
    "X_train, X_test, y_train, y_test = train_test_split(\n",
    "    input_features, output_features, test_size=0.2, random_state=42)"
   ]
  },
  {
   "cell_type": "code",
   "execution_count": null,
   "id": "ed17c7b3-459c-41fc-b164-11a888356bd2",
   "metadata": {},
   "outputs": [],
   "source": [
    "depths = range(1, 21)  # Testing depths from 1 to 20\n",
    "mse_scores = [] #initialize list to hold MSE values for each depth tested\n",
    "\n",
    "#loop through each depth and train the Decision Tree model\n",
    "for depth in depths:\n",
    "    dt_regressor = DecisionTreeRegressor(max_depth=depth, random_state=42) #max depth is set to current depth in the loop\n",
    "    #random_state=42 ensures results are reproducible\n",
    "    dt_regressor.fit(X_train, y_train) #train the model using treaining data\n",
    "    predictions = dt_regressor.predict(X_test) #once the model is trained, it makes predictions on the test data\n",
    "    mse = mean_squared_error(y_test, predictions) #compare hte predicted values with the actual values\n",
    "    mse_scores.append(mse) #append the MSE for the current depth to the list\n",
    "\n",
    "# Plot the MSE scores for different depths\n",
    "plt.figure(figsize=(10, 6))\n",
    "plt.plot(depths, mse_scores, marker='o')\n",
    "plt.title('Decision Tree MSE vs. Tree Depth')\n",
    "plt.xlabel('Tree Depth')\n",
    "plt.ylabel('Mean Squared Error (MSE)')\n",
    "plt.grid(True)\n",
    "plt.show()\n",
    "\n",
    "# Find the best depth (select the lowest MSE)\n",
    "best_depth = depths[np.argmin(mse_scores)]\n",
    "best_mse = min(mse_scores)\n",
    "\n",
    "print(f\"Best depth for Decision Tree: {best_depth}\")\n",
    "print(f\"MSE with best depth: {best_mse:.4f}\")\n",
    "\n",
    "# Visualize the decision tree with the best depth\n",
    "best_dt = DecisionTreeRegressor(max_depth=best_depth, random_state=42) #create a new DecisionTreeRegressor with best depth found\n",
    "best_dt.fit(X_train, y_train) #model is trained on training data again with best depth\n",
    "\n",
    "plt.figure(figsize=(15, 10))\n",
    "tree.plot_tree(best_dt, filled=True, feature_names=input_features.columns)\n",
    "plt.title(f'Decision Tree (Depth = {best_depth})')\n",
    "plt.show()"
   ]
  },
  {
   "cell_type": "markdown",
   "id": "d0b5c1a5-790a-40a3-b06e-676083d9557a",
   "metadata": {},
   "source": [
    "As shown in the graph above, the model achieves its highest accuracy when the tree depth is 6. \n",
    "\n",
    "Meawnwhile, the visualization shows the model splits the data based on the input features to make predictions. As the depth increases, the model will become more complex and may overfit the training data. Thus, selecting the optimal depth is vital to generalize well on unseen data. "
   ]
  },
  {
   "cell_type": "markdown",
   "id": "c967c39f-a94c-450c-a20e-b3a55f2f4dd2",
   "metadata": {
    "jp-MarkdownHeadingCollapsed": true
   },
   "source": [
    "#### Task 2"
   ]
  },
  {
   "cell_type": "code",
   "execution_count": null,
   "id": "02a01215-bef7-4023-94cf-c2cf88290d87",
   "metadata": {},
   "outputs": [],
   "source": [
    "#Creating and training the MLP regression model with specified parameters\n",
    "mlp_model = MLPRegressor(hidden_layer_sizes=(256, 128), max_iter=500, random_state=42) #creates a network with 2 hidden layers\n",
    "#it will train up to 500 iterations unless it converges earlier\n",
    "mlp_model.fit(X_train, y_train) \n",
    "\n",
    "#make predictions\n",
    "train_pred = mlp_model.predict(X_train) #the model's prediction for the training data\n",
    "test_pred = mlp_model.predict(X_test) #test data (used to evaluate generalization)\n",
    "\n",
    "#Calculate MSE for train and test datasets\n",
    "train_mse = mean_squared_error(y_train, train_pred) #error on training data (how well the model fits known data)\n",
    "test_mse = mean_squared_error(y_test, test_pred) #error on test data (how well it generalizes to unseen data)\n",
    "\n",
    "print(f\"MLP Train MSE: {train_mse:.4f}\")\n",
    "print(f\"MLP Test MSE: {test_mse:.4f}\")\n",
    "\n",
    "#visualization of predicted vs. actual values for the test set\n",
    "plt.figure(figsize=(6, 6))\n",
    "plt.scatter(y_test, test_pred, alpha=0.7)\n",
    "plt.xlabel(\"Actual Output\")\n",
    "plt.ylabel(\"Predicted Output\")\n",
    "plt.title(\"MLP Regressor – Actual vs Predicted\")\n",
    "plt.plot([y_test.min(), y_test.max()], [y_test.min(), y_test.max()], 'r--')\n",
    "plt.grid(True)\n",
    "plt.show()"
   ]
  },
  {
   "cell_type": "markdown",
   "id": "c66d6c87-c00b-4db6-b2b1-c18d27b04dea",
   "metadata": {},
   "source": [
    "The MLPRegressor is used to solve this task with the following parameters:\n",
    "- Hidden layer sizes: (256, 128)\n",
    "- Max iterations: 500\n",
    "- Random state: 42\n",
    "\n",
    "The model was trained on the 'X_train' and 'y_train' datasets, then evaluated on both the training and test sets using the Mean Squared Error (MSE) metric.\n",
    "\n",
    "Results:\n",
    "- MLP Train MSE: 0.0184\n",
    "- MLP Test MSE: 0.0218\n",
    "\n",
    "From the results, the values obtained indicate that the model performs slightly better on the training set than on the test set. This is because models usually fit the training data more closely. The low MSE values suggest that the neural network has learned the patterns in the data and is generalizing fairly well.\n",
    "\n",
    "No significant overfitting is observed based on the gap between the training and test MSE."
   ]
  },
  {
   "cell_type": "markdown",
   "id": "7e857667-f6b5-4a10-8270-0ebec2b3ffa2",
   "metadata": {
    "jp-MarkdownHeadingCollapsed": true
   },
   "source": [
    "#### Task 3: Cross validation of data using K-folds"
   ]
  },
  {
   "cell_type": "code",
   "execution_count": null,
   "id": "c829f553-9358-4788-bcb9-395b97be67fa",
   "metadata": {},
   "outputs": [],
   "source": [
    "#Set up K-Fold cross-validation (10 splits)\n",
    "kf = KFold(n_splits=10, shuffle=True, random_state=42)\n",
    "#the dataset will be split into 10 folds\n",
    "#in each round, 9 folds are used for training, and 1 fold is used for testing\n",
    "#shuffle=True makes sure the data is shuffled before splitting\n",
    "#random_state=42 maeks sure the same shuffling everytime it is run\n",
    "\n",
    "#Store MSE results for decision tree regressor and MLP regressor respectively\n",
    "dt_mse_scores = []\n",
    "mlp_mse_scores = []\n",
    "\n",
    "\n",
    "#loop through the 10 different splits created by kFold\n",
    "for train_index, test_index in kf.split(input_features):\n",
    "    X_train_cv, X_test_cv = input_features.iloc[train_index], input_features.iloc[test_index]\n",
    "    y_train_cv, y_test_cv = output_features.iloc[train_index], output_features.iloc[test_index]\n",
    "\n",
    "    # Decision Tree Regressor\n",
    "    dt = DecisionTreeRegressor(max_depth=best_depth, random_state=42) #creates decision tree\n",
    "    dt.fit(X_train_cv, y_train_cv)\n",
    "    dt_pred = dt.predict(X_test_cv) #predicts on test data and calculates MSE\n",
    "    dt_mse = mean_squared_error(y_test_cv, dt_pred)\n",
    "    dt_mse_scores.append(dt_mse)\n",
    "\n",
    "    # MLP Regressor (neural network)\n",
    "    mlp = MLPRegressor(hidden_layer_sizes=(256, 128), max_iter=500, random_state=42) #2 hidden layers, one with 256 neurons, next with 128\n",
    "    mlp.fit(X_train_cv, y_train_cv)\n",
    "    mlp_pred = mlp.predict(X_test_cv)\n",
    "    mlp_mse = mean_squared_error(y_test_cv, mlp_pred)\n",
    "    mlp_mse_scores.append(mlp_mse)\n",
    "\n",
    "#convert lists to arrays\n",
    "dt_mse_scores = np.array(dt_mse_scores)\n",
    "mlp_mse_scores = np.array(mlp_mse_scores)\n",
    "\n",
    "# Print results\n",
    "print(\"Decision Tree CV MSE (per fold):\", dt_mse_scores)\n",
    "print(\"MLP CV MSE (per fold):\", mlp_mse_scores)\n",
    "print(f\"Decision Tree Mean CV MSE: {dt_mse_scores.mean():.4f}\")\n",
    "print(f\"MLP Mean CV MSE: {mlp_mse_scores.mean():.4f\n"
   ]
  },
  {
   "cell_type": "markdown",
   "id": "ce76f449-afa4-4a6e-b605-c6a762e9e404",
   "metadata": {},
   "source": [
    "Since cross_val_score() only supports 1D targets, and this task involves multi-output regression, K-Fold cross-validation approach is used from sklearn.model_selection\n",
    "10-fold-cross-validation for both the decision tree regressor with optimized depth and the multi-layer perceptron (MLP) regressor was performed.\n",
    "\n",
    "In each iteration, the dataset was split into training and testing sets, both models were trained on the training folds, and their performance was evaluated on the test fold using MSE.\n",
    "\n",
    "Then, this process was repeated 10 times (once for each fold) and the MSEs were averaged to give an estimate of model performance."
   ]
  },
  {
   "cell_type": "markdown",
   "id": "c92538be-fa94-4217-8177-b17cc8892a3f",
   "metadata": {},
   "source": [
    "#### Section A Part B"
   ]
  },
  {
   "cell_type": "code",
   "execution_count": 5,
   "id": "2a69aadb-6268-4400-a1cd-d919e6dd90c1",
   "metadata": {},
   "outputs": [
    {
     "data": {
      "image/png": "[encoded data removed]",
      "text/plain": [
       "<Figure size 1000x800 with 1 Axes>"
      ]
     },
     "metadata": {},
     "output_type": "display_data"
    },
    {
     "name": "stdout",
     "output_type": "stream",
     "text": [
      "Image shape (height, width, channels): (1000, 2000, 3)\n",
      "My name is Ong Wei Xuan, and I am slicing the image Group_T.png to extract my name.\n"
     ]
    },
    {
     "data": {
      "image/png": "[encoded data removed]",
      "text/plain": [
       "<Figure size 2400x300 with 12 Axes>"
      ]
     },
     "metadata": {},
     "output_type": "display_data"
    }
   ],
   "source": [
    "#Loading the image\n",
    "\n",
    "import matplotlib.pyplot as plt\n",
    "from skimage import io\n",
    "from skimage.transform import rotate, resize\n",
    "group_image = io.imread('Group_T.png')\n",
    "\n",
    "# Display original image\n",
    "plt.figure(figsize=(10, 8))\n",
    "plt.imshow(group_image)\n",
    "plt.title('Group T Image')\n",
    "plt.axis('on')\n",
    "plt.show()\n",
    "\n",
    "#Identifying the coordinates \n",
    "print(\"Image shape (height, width, channels):\", group_image.shape)\n",
    "\n",
    "print(\"My name is Ong Wei Xuan, and I am slicing the image Group_T.png to extract my name.\")\n",
    "\n",
    "rows = 6\n",
    "cols = 9\n",
    "cell_width = group_image.shape[1] // cols   \n",
    "cell_height = group_image.shape[0] // rows  \n",
    "\n",
    "def get_cell_coords(row, col, trim=5):  # trim = number of pixels to remove from each side\n",
    "    y_start = row * cell_height + trim\n",
    "    y_end = (row + 1) * cell_height - trim\n",
    "    x_start = col * cell_width + trim\n",
    "    x_end = (col + 1) * cell_width - trim\n",
    "    return y_start, y_end, x_start, x_end\n",
    "\n",
    "\n",
    "\n",
    "letters_coords = [\n",
    "    (4, 3),  # O\n",
    "    (0, 4),  # n\n",
    "    (2, 6),  # g\n",
    "    (5, 7),  # space\n",
    "    (0, 1),  # W\n",
    "    (4, 6),  # e\n",
    "    (3, 6),  # i\n",
    "    (5, 7),  # space (optional)\n",
    "    (3, 0),  # X\n",
    "    (4, 4),  # u\n",
    "    (2, 0),  # a\n",
    "    (0, 4),  # n\n",
    "]\n",
    "\n",
    "#Rotation angles for specific letters (same order as letters_coords)\n",
    "# put 0 if no rotation needed\n",
    "rotation_angles = [\n",
    "    0,    # O\n",
    "    -20,  # n\n",
    "    0,    # g\n",
    "    0,    # space\n",
    "    -5,    # W\n",
    "    -5,    # e\n",
    "    -5,    # i\n",
    "    0,    # space\n",
    "    -30,   # X\n",
    "    20,   # u\n",
    "    -30,    # a\n",
    "    -20,  # n\n",
    "]\n",
    "\n",
    "# Extract and rotate slices\n",
    "letter_slices = []\n",
    "for (r, c), angle in zip(letters_coords, rotation_angles):\n",
    "    y1, y2, x1, x2 = get_cell_coords(r, c, trim=5)\n",
    "    letter = group_image[y1:y2, x1:x2]\n",
    "    if angle != 0:\n",
    "        letter = rotate(letter, angle=angle, resize=False, mode='edge')\n",
    "    letter_slices.append(letter)\n",
    "\n",
    "#Define target sizes for each letter (height, width)\n",
    "target_sizes = [\n",
    "    (100, 100),  # O\n",
    "    (80, 60),    # n\n",
    "    (100, 90),    # g\n",
    "    (20, 40),    # space\n",
    "    (100, 120),  # W\n",
    "    (70, 60),    # e\n",
    "    (50, 45),    # i\n",
    "    (20, 40),    # space\n",
    "    (100, 100),  # X\n",
    "    (130, 100),    # u\n",
    "    (80, 60),    # a\n",
    "    (90, 60),    # n\n",
    "]\n",
    "\n",
    "#Resize each letter manually\n",
    "resized_letters = []\n",
    "for letter, target_size in zip(letter_slices, target_sizes):\n",
    "    resized_letter = resize(letter, target_size, anti_aliasing=True)\n",
    "    resized_letters.append(resized_letter)\n",
    "\n",
    "#Plot resized letters\n",
    "fig, axes = plt.subplots(1, len(resized_letters), figsize=(len(resized_letters) * 2, 3))\n",
    "for ax, img in zip(axes, resized_letters):\n",
    "    ax.imshow(img)\n",
    "    ax.axis('off')\n",
    "\n",
    "plt.tight_layout()\n",
    "plt.show()\n"
   ]
  },
  {
   "cell_type": "markdown",
   "id": "239ea492-16fe-41ca-9d29-dcaa50a64d6d",
   "metadata": {
    "jp-MarkdownHeadingCollapsed": true
   },
   "source": [
    "### Rebecca Anita"
   ]
  },
  {
   "cell_type": "markdown",
   "id": "a611d8b4-291a-4ebd-95e8-15b21a87eebc",
   "metadata": {},
   "source": [
    "#### Section A Part A\n",
    "\n",
    "#### Task 1: Decision Tree"
   ]
  },
  {
   "cell_type": "markdown",
   "id": "e82422bc-ec95-4831-8f04-e5acef065d02",
   "metadata": {},
   "source": [
    "**Objective**:  \n",
    "To use a Decision Tree model to predict values from the `partA.csv` dataset and check how well it performs.\n",
    "\n",
    "**Results**: \n",
    "- Mean Squared Error (MSE): 0.2996  \n",
    "- The feature importance graph showed that only a few input features had a strong effect on the predictions.\n",
    "- The scatter plot showed that most predictions were close to the actual values, with only a few points being far off.\n",
    "\n",
    " **Conclusion**:  \n",
    "The Decision Tree model did well. The low MSE means that the model was resonably accurate and the graphs help explain which features were important and how close the predictions were to the real values."
   ]
  },
  {
   "cell_type": "code",
   "execution_count": null,
   "id": "44ec4ef4-f3d4-44e8-8364-329ca0e96721",
   "metadata": {},
   "outputs": [],
   "source": [
    "import pandas as pd\n",
    "\n",
    "partA_data = pd.read_csv(\"partA.csv\")\n",
    "new_input_data = pd.read_csv(\"new_input_data.csv\")\n",
    "new_output_data = pd.read_csv(\"new_output_data.csv\")\n",
    "\n",
    "print(partA_data.head())\n",
    "print(new_input_data.head())\n",
    "print(new_output_data.head())"
   ]
  },
  {
   "cell_type": "code",
   "execution_count": null,
   "id": "fd3ad864-bc25-4e95-a3ef-ae7b280e1372",
   "metadata": {},
   "outputs": [],
   "source": [
    "import numpy as np\n",
    "from sklearn.model_selection import train_test_split\n",
    "from sklearn.preprocessing import StandardScaler\n",
    "\n",
    "# 1. Check for missing values in the dataset\n",
    "print(partA_data.isnull().sum())  # This will print how many missing values are in each column if there are any.\n",
    "\n",
    "# 2. Splitting the dataset into input (X) and output (y)\n",
    "X = partA_data.filter(like='in_')  # Inputs\n",
    "y = partA_data.filter(like='out_')  # Outputs\n",
    "\n",
    "# 3. Split the data into training and testing sets (for cross-validation)\n",
    "X_train, X_test, y_train, y_test = train_test_split(X, y, test_size=0.2, random_state=42)\n",
    "\n",
    "# 4. Feature scaling\n",
    "scaler = StandardScaler()\n",
    "\n",
    "# Fit and transform on training data, and transform test data\n",
    "X_train_scaled = scaler.fit_transform(X_train)\n",
    "X_test_scaled = scaler.transform(X_test)\n",
    "\n",
    "# Print the dimensions (shape) of the datasets after splitting\n",
    "print(f\"Training data shape: {X_train_scaled.shape}\")\n",
    "print(f\"Testing data shape: {X_test_scaled.shape}\")"
   ]
  },
  {
   "cell_type": "code",
   "execution_count": null,
   "id": "e1dcb825-56c8-489e-9d1b-354c2f5f56a4",
   "metadata": {},
   "outputs": [],
   "source": [
    "from sklearn.model_selection import train_test_split\n",
    "\n",
    "X = partA_data.filter(like='in_')  # Select columns with 'in_' (inputs)\n",
    "y = partA_data.filter(like='out_')  # Select columns with 'out_' (outputs)\n",
    "\n",
    "# Split the data into training and testing sets (80% for training, 20% for testing)\n",
    "X_train, X_test, y_train, y_test = train_test_split(X, y, test_size=0.2, random_state=42)\n",
    "\n",
    "# Check the shape again\n",
    "print(f\"Training data shape: {X_train.shape}\")\n",
    "print(f\"Testing data shape: {X_test.shape}\")"
   ]
  },
  {
   "cell_type": "code",
   "execution_count": null,
   "id": "746237bc-2860-4a40-bb4a-171757009072",
   "metadata": {},
   "outputs": [],
   "source": [
    "from sklearn.tree import DecisionTreeRegressor\n",
    "from sklearn.metrics import mean_squared_error\n",
    "import matplotlib.pyplot as plt\n",
    "\n",
    "# Create model\n",
    "decision_tree_model = DecisionTreeRegressor(random_state=42)\n",
    "\n",
    "# Train model\n",
    "decision_tree_model.fit(X_train, y_train)\n",
    "\n",
    "# Predict on the test data\n",
    "y_pred = decision_tree_model.predict(X_test)\n",
    "\n",
    "# Calculate the mean squared error (MSE) to evaluate the model\n",
    "mse = mean_squared_error(y_test, y_pred)\n",
    "print(f\"Mean Squared Error (Decision Tree): {mse}\")\n",
    "\n",
    "# Visualize the predicted vs actual values for one of the output columns\n",
    "plt.figure(figsize=(10,6))\n",
    "plt.plot(y_test.iloc[:, 0], label='Actual', alpha=0.7)\n",
    "plt.plot(y_pred[:, 0], label='Predicted', alpha=0.7)\n",
    "plt.title(\"Decision Tree Regressor: Predicted vs Actual (First Output Column)\")\n",
    "plt.xlabel(\"Samples\")\n",
    "plt.ylabel(\"Output Value\")\n",
    "plt.legend()\n",
    "plt.show()"
   ]
  },
  {
   "cell_type": "code",
   "execution_count": null,
   "id": "e37c8667-b766-4671-a87f-29782841c448",
   "metadata": {},
   "outputs": [],
   "source": [
    "# Get feature importances\n",
    "feature_importances = decision_tree_model.feature_importances_\n",
    "\n",
    "# Make a bar graph to visualize feature importances\n",
    "plt.figure(figsize=(12,6))\n",
    "plt.barh(range(len(feature_importances)), feature_importances, align='center')\n",
    "plt.yticks(range(len(feature_importances)), X_train.columns)\n",
    "plt.xlabel('Feature Importance')\n",
    "plt.title('Feature Importance (Decision Tree)')\n",
    "plt.show()"
   ]
  },
  {
   "cell_type": "code",
   "execution_count": null,
   "id": "a92af95d-f4d4-4bb0-96c4-5151c1ddb88f",
   "metadata": {},
   "outputs": [],
   "source": [
    "from sklearn.neural_network import MLPRegressor\n",
    "from sklearn.metrics import mean_squared_error\n",
    "\n",
    "# Create MLP model\n",
    "mlp_model = MLPRegressor(hidden_layer_sizes=(100, 50), max_iter=1000, random_state=42)\n",
    "\n",
    "# Train MLP model\n",
    "mlp_model.fit(X_train, y_train)\n",
    "\n",
    "# Make predictions\n",
    "y_pred_mlp = mlp_model.predict(X_test)\n",
    "\n",
    "# Calculate Mean Squared Error (MSE) for MLP\n",
    "mse_mlp = mean_squared_error(y_test, y_pred_mlp)\n",
    "print(f'Mean Squared Error (MLP): {mse_mlp}')\n",
    "\n",
    "# Plot Actual vs Predicted for MLP\n",
    "plt.figure(figsize=(8, 6))\n",
    "plt.scatter(y_test, y_pred_mlp, alpha=0.5)\n",
    "plt.plot([min(y_test), max(y_test)], [min(y_test), max(y_test)], 'k--', lw=2)\n",
    "plt.xlabel('Actual Values')\n",
    "plt.ylabel('Predicted Values')\n",
    "plt.title('Actual vs Predicted (MLP)')\n",
    "plt.show()"
   ]
  },
  {
   "cell_type": "code",
   "execution_count": null,
   "id": "a65c3012-8aaf-45d7-ad4e-38b9c8eea9d8",
   "metadata": {},
   "outputs": [],
   "source": [
    "from sklearn.tree import DecisionTreeRegressor\n",
    "\n",
    "# Initialize the Decision Tree model\n",
    "dt_model = DecisionTreeRegressor()\n",
    "\n",
    "# Train model using the training data\n",
    "dt_model.fit(X_train, y_train)\n",
    "\n",
    "# Make predictions with the Decision Tree model\n",
    "y_pred_tree = dt_model.predict(X_test)\n",
    "\n",
    "# Plot Actual vs Predicted for Decision Tree\n",
    "plt.figure(figsize=(8,6))\n",
    "plt.scatter(y_test, y_pred_tree, color='blue', alpha=0.6)\n",
    "plt.plot([y_test.min(), y_test.max()], [y_test.min(), y_test.max()], color='red', linestyle='--')  # Ideal line\n",
    "plt.title(\"Decision Tree: Actual vs Predicted\")\n",
    "plt.xlabel(\"Actual Values\")\n",
    "plt.ylabel(\"Predicted Values\")\n",
    "plt.show()"
   ]
  },
  {
   "cell_type": "markdown",
   "id": "29eb96b6-2c24-4327-899d-bde6e6e720d3",
   "metadata": {},
   "source": [
    "#### Task 2"
   ]
  },
  {
   "cell_type": "markdown",
   "id": "8718e29c-e846-4294-8de6-d8e301d24d5e",
   "metadata": {},
   "source": [
    "#### Question 2\n",
    "\n",
    "**Objective**:\n",
    "To apply the Multilayer Perceptron (MLP) regression model on the `partA.csv` dataset to predict values and evaluate its performance.\n",
    "\n",
    "**Results**:\n",
    "- MLP Train MSE: 0.0184  \n",
    "- MLP Test MSE: 0.0218  \n",
    "\n",
    "These MSE values suggest that the MLP model performs well with low error rates for both the training and testing datasets. The model generalizes effectively to unseen data.\n",
    "\n",
    "A plot graph comparing the predicted and actual values for the MLP model is shown below.\n",
    "\n",
    "**Conclusion**:\n",
    "The MLP model showed good performance, with low error rates on both the training and test data. The results show that the model is effective at predicting the outputs and generalizes well to new data.\n"
   ]
  },
  {
   "cell_type": "code",
   "execution_count": null,
   "id": "d652bde1-ff1a-4533-b44a-20329106ec6d",
   "metadata": {},
   "outputs": [],
   "source": [
    "from sklearn.neural_network import MLPRegressor\n",
    "from sklearn.metrics import mean_squared_error\n",
    "\n",
    "# Initialize and train MLP model\n",
    "mlp_model = MLPRegressor(hidden_layer_sizes=(256, 128), max_iter=500, random_state=42)\n",
    "mlp_model.fit(X_train, y_train)\n",
    "\n",
    "# Predictions\n",
    "y_train_pred_mlp = mlp_model.predict(X_train)\n",
    "y_test_pred_mlp = mlp_model.predict(X_test)\n",
    "\n",
    "# Calculate MSE for both train and test sets\n",
    "mse_train_mlp = mean_squared_error(y_train, y_train_pred_mlp)\n",
    "mse_test_mlp = mean_squared_error(y_test, y_test_pred_mlp)\n",
    "\n",
    "print(\"MLP Train MSE:\", mse_train_mlp)\n",
    "print(\"MLP Test MSE:\", mse_test_mlp)"
   ]
  },
  {
   "cell_type": "code",
   "execution_count": null,
   "id": "fc5e4494-018f-43aa-a859-f0db465e0bb2",
   "metadata": {},
   "outputs": [],
   "source": [
    "import matplotlib.pyplot as plt\n",
    "\n",
    "plt.figure(figsize=(10, 6))\n",
    "plt.scatter(y_test, y_test_pred_mlp, alpha=0.5, color='blue', label='Predicted vs Actual')\n",
    "plt.plot([y_test.min(), y_test.max()], [y_test.min(), y_test.max()], color='red', linestyle='--', label='Perfect Fit')\n",
    "plt.xlabel('Actual Values')\n",
    "plt.ylabel('Predicted Values')\n",
    "plt.title('MLP Regression: Actual vs Predicted Outputs')\n",
    "plt.legend()\n",
    "plt.grid(True)\n",
    "plt.show()"
   ]
  },
  {
   "cell_type": "markdown",
   "id": "9e7e3b48-65a8-41f7-aa10-d6860b5f4bc1",
   "metadata": {},
   "source": [
    "#### Task 3"
   ]
  },
  {
   "cell_type": "code",
   "execution_count": null,
   "id": "51d22f58-40c9-4466-850e-b07a8c3fc330",
   "metadata": {},
   "outputs": [],
   "source": [
    "from sklearn.model_selection import cross_val_score, KFold\n",
    "from sklearn.multioutput import MultiOutputRegressor\n",
    "from sklearn.tree import DecisionTreeRegressor\n",
    "from sklearn.neural_network import MLPRegressor\n",
    "import numpy as np"
   ]
  },
  {
   "cell_type": "code",
   "execution_count": null,
   "id": "c9c0cb3c-fc80-434f-b212-d444f38e69b7",
   "metadata": {},
   "outputs": [],
   "source": [
    "# Load dataset\n",
    "df = pd.read_csv(\"partA.csv\")\n",
    "\n",
    "# Separate input and output columns based on prefix\n",
    "X = df.filter(regex='^in_')\n",
    "y = df.filter(regex='^out_')\n",
    "\n",
    "# K-Fold cross-validation setup\n",
    "kf = KFold(n_splits=10, shuffle=True, random_state=42)\n",
    "\n",
    "# Wrap models for multi-output\n",
    "dt_model = MultiOutputRegressor(DecisionTreeRegressor(random_state=42))\n",
    "mlp_model = MultiOutputRegressor(MLPRegressor(hidden_layer_sizes=(256, 128), max_iter=500, random_state=42))\n",
    "\n",
    "# Decision Tree CV MSE\n",
    "dt_scores = cross_val_score(dt_model, X, y, scoring='neg_mean_squared_error', cv=kf)\n",
    "print(\"Decision Tree CV MSE:\", -np.mean(dt_scores))\n",
    "\n",
    "# MLP CV MSE\n",
    "mlp_scores = cross_val_score(mlp_model, X, y, scoring='neg_mean_squared_error', cv=kf)\n",
    "print(\"MLP CV MSE:\", -np.mean(mlp_scores))"
   ]
  },
  {
   "cell_type": "markdown",
   "id": "8c731e5e-0d1a-4fe3-98e3-8194bfb490a0",
   "metadata": {},
   "source": [
    "#### Part B"
   ]
  },
  {
   "cell_type": "markdown",
   "id": "61b0c19b-8688-4559-8376-1878b773813a",
   "metadata": {},
   "source": [
    "**Objective:** \n",
    "To extract the letters of my name from the image `Group_T.png` using slicing techniques, ensuring that each letter is of equal size and placed correctly.\n",
    "\n",
    "**Results**  \n",
    "The extracted letters were displayed in the correct order to form my name:  \n",
    "Rebecca Pereira\n",
    "\n",
    "**Conclusion**  \n",
    "By slicing and arranging the letters, the name was able to display correctly, ensuring all letters were of equal size and in the correct positions."
   ]
  },
  {
   "cell_type": "code",
   "execution_count": 9,
   "id": "b549d10f-1bb1-449e-b69a-47fce2ffa9c0",
   "metadata": {},
   "outputs": [],
   "source": [
    "import os\n",
    "\n",
    "# Path to the image file using relative path\n",
    "image_path = os.path.join(\"Images\", \"Group_T.png\")"
   ]
  },
  {
   "cell_type": "code",
   "execution_count": 11,
   "id": "9ef699e9-fbaf-4ace-9fff-e06cd845a363",
   "metadata": {},
   "outputs": [
    {
     "ename": "ModuleNotFoundError",
     "evalue": "No module named 'cv2'",
     "output_type": "error",
     "traceback": [
      "\u001b[0;31m---------------------------------------------------------------------------\u001b[0m",
      "\u001b[0;31mModuleNotFoundError\u001b[0m                       Traceback (most recent call last)",
      "Cell \u001b[0;32mIn[11], line 1\u001b[0m\n\u001b[0;32m----> 1\u001b[0m \u001b[38;5;28;01mimport\u001b[39;00m \u001b[38;5;21;01mcv2\u001b[39;00m\n\u001b[1;32m      2\u001b[0m \u001b[38;5;28;01mimport\u001b[39;00m \u001b[38;5;21;01mmatplotlib\u001b[39;00m\u001b[38;5;21;01m.\u001b[39;00m\u001b[38;5;21;01mpyplot\u001b[39;00m \u001b[38;5;28;01mas\u001b[39;00m \u001b[38;5;21;01mplt\u001b[39;00m\n\u001b[1;32m      3\u001b[0m \u001b[38;5;28;01mimport\u001b[39;00m \u001b[38;5;21;01mos\u001b[39;00m\n",
      "\u001b[0;31mModuleNotFoundError\u001b[0m: No module named 'cv2'"
     ]
    }
   ],
   "source": [
    "import cv2\n",
    "import matplotlib.pyplot as plt\n",
    "import os\n",
    "\n",
    "# Proper relative path to the actual image file\n",
    "image_path = os.path.join(\"Images\", \"Group_T.png\")\n",
    "\n",
    "# Load the image\n",
    "image = cv2.imread(image_path)\n",
    "\n",
    "# Check if the image loaded correctly\n",
    "if image is None:\n",
    "    print(\"Failed to load image. Check the file name and path.\")\n",
    "else:\n",
    "    # Convert from BGR (OpenCV format) to RGB (for matplotlib)\n",
    "    image_rgb = cv2.cvtColor(image, cv2.COLOR_BGR2RGB)\n",
    "\n",
    "    # Display the full image\n",
    "    plt.figure(figsize=(10, 5))\n",
    "    plt.imshow(image_rgb)\n",
    "    plt.title(\"Group_T.png\")\n",
    "    plt.axis(\"off\")\n",
    "    plt.show()"
   ]
  },
  {
   "cell_type": "code",
   "execution_count": null,
   "id": "48aeb430-fbd2-4c55-83a7-5c4946a9ba55",
   "metadata": {},
   "outputs": [],
   "source": [
    "# get dimensions\n",
    "print(image.shape) "
   ]
  },
  {
   "cell_type": "code",
   "execution_count": null,
   "id": "54f98919-acad-4934-a1a9-539acc39d0f8",
   "metadata": {},
   "outputs": [],
   "source": [
    "#dimensions\n",
    "#1000 pixels tall means divided by 6 rows = each row is ~166 pixels high\n",
    "#2000 pixels wide means divided by 9 columns = each column is ~222 pixels wide\n",
    "row_height = image.shape[0] // 6      # ~166\n",
    "col_width = image.shape[1] // 9       # ~222\n",
    "\n",
    "def extract_letter(image, row, col):\n",
    "    top = row * row_height\n",
    "    bottom = (row + 1) * row_height\n",
    "    left = col * col_width\n",
    "    right = (col + 1) * col_width\n",
    "    return image[top:bottom, left:right]\n",
    "\n",
    "#coordinates based on  9-column layout\n",
    "rebecca_cords = [(1, 7), (4, 6), (3, 7), (4, 6), (1, 4), (1, 4), (2, 0)]\n",
    "pereira_cords = [(1, 0), (4, 6), (2, 2), (4, 6), (3, 6), (2, 2), (2, 0)]\n",
    "\n",
    "# Extract and display\n",
    "rebecca_imgs = [extract_letter(image, r, c) for r, c in rebecca_cords]\n",
    "pereira_imgs = [extract_letter(image, r, c) for r, c in pereira_cords]\n",
    "\n",
    "# Display First Name\n",
    "plt.figure(figsize=(15, 2))\n",
    "for i, img in enumerate(rebecca_imgs):\n",
    "    plt.subplot(1, len(rebecca_imgs), i+1)\n",
    "    plt.imshow(cv2.cvtColor(img, cv2.COLOR_BGR2RGB))\n",
    "    plt.axis('off')\n",
    "plt.suptitle('First Name: Rebecca', fontsize=16)\n",
    "plt.show()\n",
    "\n",
    "# Display Last Name\n",
    "plt.figure(figsize=(15, 2))\n",
    "for i, img in enumerate(pereira_imgs):\n",
    "    plt.subplot(1, len(pereira_imgs), i+1)\n",
    "    plt.imshow(cv2.cvtColor(img, cv2.COLOR_BGR2RGB))\n",
    "    plt.axis('off')\n",
    "plt.suptitle('Last Name: Pereira', fontsize=16)\n",
    "plt.show()\n"
   ]
  },
  {
   "cell_type": "markdown",
   "id": "a328de33-5ac9-4aad-9bb6-9814ee67b63f",
   "metadata": {
    "jp-MarkdownHeadingCollapsed": true
   },
   "source": [
    "### Yu Jie Phung"
   ]
  },
  {
   "cell_type": "markdown",
   "id": "81736282-4952-4f4b-a8aa-9dc26fa37fd4",
   "metadata": {},
   "source": [
    "#### Part A"
   ]
  },
  {
   "cell_type": "code",
   "execution_count": null,
   "id": "44f12478-e6e4-4b8d-8608-39e150cced63",
   "metadata": {},
   "outputs": [],
   "source": [
    "import pandas as pd\n",
    "import numpy as np\n",
    "from sklearn.tree import DecisionTreeRegressor, plot_tree\n",
    "from sklearn.model_selection import train_test_split, cross_val_score, KFold\n",
    "from sklearn.neural_network import MLPRegressor\n",
    "from sklearn.metrics import mean_squared_error\n",
    "import matplotlib.pyplot as plt\n",
    "from sklearn.model_selection import GridSearchCV\n",
    "from sklearn.multioutput import MultiOutputRegressor"
   ]
  },
  {
   "cell_type": "markdown",
   "id": "d90c6340-75d6-4521-ae0c-16b29cb16f51",
   "metadata": {},
   "source": [
    "#### Task 1"
   ]
  },
  {
   "cell_type": "code",
   "execution_count": null,
   "id": "f1fcb74e-6931-44b8-8228-c1b0a1c7cd3c",
   "metadata": {},
   "outputs": [],
   "source": [
    "df = pd.read_csv(\"partA.csv\")\n",
    "df.head()"
   ]
  },
  {
   "cell_type": "code",
   "execution_count": null,
   "id": "2b2ab2b0-6c15-43ad-89e5-09de5852ef5a",
   "metadata": {},
   "outputs": [],
   "source": [
    "# Extract input features and output labels\n",
    "input_columns = [col for col in df.columns if col.startswith(\"in_\")]\n",
    "output_columns = [col for col in df.columns if col.startswith(\"out_\")]\n",
    "\n",
    "X = df[input_columns]\n",
    "y = df[output_columns]\n",
    "\n",
    "# Split data into training (70%) and testing (30%) set\n",
    "X_train, X_test, y_train, y_test = train_test_split(X, y, test_size = 0.3, random_state = 42)"
   ]
  },
  {
   "cell_type": "code",
   "execution_count": null,
   "id": "57c0f038-d357-49db-b87a-285efe9fd41c",
   "metadata": {},
   "outputs": [],
   "source": [
    "# Testing depths 1 through 30\n",
    "param_grid = {'max_depth': list(range(1, 31))} \n",
    "\n",
    "dt_regressor = DecisionTreeRegressor(random_state = 42)\n",
    "\n",
    "# Use GridSearchCV to search for the best max_depth using 5-fold cross-validation\n",
    "grid_search = GridSearchCV(dt_regressor, param_grid, cv = 5, scoring = 'neg_mean_squared_error', n_jobs = -1)\n",
    "grid_search.fit(X_train, y_train)"
   ]
  },
  {
   "cell_type": "code",
   "execution_count": null,
   "id": "f40d232b-5363-42bf-bd6c-927eabd57d4e",
   "metadata": {},
   "outputs": [],
   "source": [
    "# Retrieve the best estimator and best max_depth found by GridSearchCV\n",
    "best_max_depth = grid_search.best_params_['max_depth']\n",
    "print(\"Best depth found:\", best_max_depth)\n",
    "\n",
    "best_dt_regressor = grid_search.best_estimator_\n",
    "\n",
    "# Make predictions on the test set using the best found model\n",
    "y_prediction = best_dt_regressor.predict(X_test)\n",
    "mse = mean_squared_error(y_test, y_prediction)\n",
    "print(\"Decision Tree Regressor Test MSE:\", mse)\n",
    "print(\"\\n\")\n",
    "\n",
    "# Visualize the result of the best decision tree regressor\n",
    "plt.figure(figsize=(16, 12))\n",
    "plot_tree(best_dt_regressor, feature_names=input_columns, filled = True, rounded = True, max_depth = 3)\n",
    "plt.title(\"Decision Tree Regressor Diagram\", fontsize = 18)\n",
    "plt.show()\n"
   ]
  },
  {
   "cell_type": "markdown",
   "id": "ed6ee3cb-0566-4086-94c3-860f1969c994",
   "metadata": {},
   "source": [
    "#### Task 2"
   ]
  },
  {
   "cell_type": "code",
   "execution_count": null,
   "id": "4c511171-7ee0-4298-bc0d-7470ca741987",
   "metadata": {},
   "outputs": [],
   "source": [
    "# Create and train the MLP Regressor \n",
    "mlp = MLPRegressor(hidden_layer_sizes=(256,128), max_iter = 500, random_state = 42)\n",
    "mlp.fit(X_train, y_train)\n",
    "\n",
    "# Prediction on train and test sets\n",
    "y_prediction_mlp_train = mlp.predict(X_train)\n",
    "mse_mlp_train = mean_squared_error(y_train, y_prediction_mlp_train)\n",
    "\n",
    "y_prediction_mlp_test = mlp.predict(X_test)\n",
    "mse_mlp_test = mean_squared_error(y_test, y_prediction_mlp_test)"
   ]
  },
  {
   "cell_type": "code",
   "execution_count": null,
   "id": "c31d326c-1202-418d-ad9f-ac0248d4e61f",
   "metadata": {},
   "outputs": [],
   "source": [
    "print(\"MLP Training MSE:\", mse_mlp_train)\n",
    "print(\"MLP Test MSE:\", mse_mlp_test, \"\\n\")\n",
    "\n",
    "# Plot a graph\n",
    "plt.figure(figsize=(10, 5))\n",
    "plt.scatter(y_test, y_prediction_mlp_test, color='blue', alpha=0.5)\n",
    "plt.plot([y_test.min(), y_test.max()], [y_test.min(), y_test.max()], color = 'red')\n",
    "plt.xlabel(\"Actual Values\")\n",
    "plt.ylabel(\"Predicted Values\")\n",
    "plt.title(\"Actual vs. Predicted Values (MLP Regression)\")\n",
    "plt.grid(True)\n",
    "plt.show()"
   ]
  },
  {
   "cell_type": "markdown",
   "id": "fe921697-7ba5-489d-8acc-2bd2512a3634",
   "metadata": {},
   "source": [
    "#### Task 3"
   ]
  },
  {
   "cell_type": "code",
   "execution_count": null,
   "id": "07c0b3de-77c3-449d-afad-591ebe5d80c5",
   "metadata": {},
   "outputs": [],
   "source": [
    "X_cv = pd.read_csv(\"new_input_data.csv\")\n",
    "y_cv = pd.read_csv(\"new_output_data.csv\")\n",
    "\n",
    "# Define 10 folds for cross-validation \n",
    "kf = KFold(n_splits  = 10, shuffle = True, random_state = 42)"
   ]
  },
  {
   "cell_type": "code",
   "execution_count": null,
   "id": "d660564b-2c06-45ba-9bad-cec45c308c11",
   "metadata": {},
   "outputs": [],
   "source": [
    "# Cross-validate Decision Tree Regressor \n",
    "# Wrap DecisionTreeRegressor with MultiOutputRegressor.\n",
    "dt_regressor = MultiOutputRegressor(DecisionTreeRegressor(random_state=42))\n",
    "\n",
    "# Perform cross validation using negative MSE, then convert it to positive MSE.\n",
    "cv_scores_dt = cross_val_score(dt_regressor, X_cv, y_cv, cv = kf, scoring = 'neg_mean_squared_error', n_jobs = -1)\n",
    "cv_mse_dt = -cv_scores_dt.mean()\n",
    "print(\"Decision Tree Regressor Cross-Validation MSE:\", cv_mse_dt)\n",
    "\n",
    "# Cross-validate MLP Regressor\n",
    "# Wrap MLPRegressor with MultiOutputRegressor\n",
    "mlp_regressor = MultiOutputRegressor(MLPRegressor(hidden_layer_sizes = (256, 128), max_iter = 300, early_stopping = True, random_state = 42))\n",
    "cv_scores_mlp = cross_val_score(mlp_regressor, X_cv, y_cv, cv = kf, scoring = 'neg_mean_squared_error', n_jobs = -1)\n",
    "cv_mse_mlp = -cv_scores_mlp.mean()\n",
    "print(\"MLP Regressor Cross-Validation MSE:\", cv_mse_mlp)\n"
   ]
  },
  {
   "cell_type": "markdown",
   "id": "f50ba43d-b3c4-4331-b267-7eb166dc1de0",
   "metadata": {},
   "source": [
    "#### Part B"
   ]
  },
  {
   "cell_type": "code",
   "execution_count": null,
   "id": "b3df6e24-c662-4050-beb9-45135d04b4f6",
   "metadata": {},
   "outputs": [],
   "source": [
    "import matplotlib.pyplot as plt\n",
    "import numpy as np\n",
    "from skimage import io\n",
    "from skimage.transform import rotate\n",
    "\n",
    "img = io.imread(\"Group_T.png\")\n",
    "plt.imshow(image)\n",
    "plt.show()"
   ]
  },
  {
   "cell_type": "code",
   "execution_count": null,
   "id": "88111700-381b-4bd5-b768-9b012fb5e8fc",
   "metadata": {},
   "outputs": [],
   "source": [
    "# Grid dimensions: 6 rows × 9 columns\n",
    "rows, cols = 6, 9\n",
    "cell_h = img.shape[0] // rows\n",
    "cell_w = img.shape[1] // cols\n",
    "\n",
    "def crop_letter(img, row, col):\n",
    "    \"\"\"Crop a cell from the image based on the given row and column indices.\"\"\"\n",
    "    return img[row * cell_h:(row + 1) * cell_h, col * cell_w:(col + 1) * cell_w]\n",
    "\n",
    "def trim_outer_space(img, trim_size=61):\n",
    "    \"\"\"Trim the outer borders of the image by a specified trim size.\"\"\"\n",
    "    h, w, _ = img.shape\n",
    "    return img[trim_size:h - trim_size, trim_size:w - trim_size]"
   ]
  },
  {
   "cell_type": "code",
   "execution_count": null,
   "id": "568a2e15-92a6-4ed5-80dc-f30f9a6b6360",
   "metadata": {},
   "outputs": [],
   "source": [
    "# Position of char of my name (row, col), rotation_angle\n",
    "name_data = [\n",
    "    ('P', (1, 0), -27),\n",
    "    ('h', (5, 4), 25),  \n",
    "    ('u', (4, 4), 23),\n",
    "    ('n', (0, 4), -19),\n",
    "    ('g', (2, 6), -1),\n",
    "    (' ', (5, 7), 0),    \n",
    "    ('Y', (0, 6), 24),\n",
    "    ('u', (4, 4), 23),\n",
    "    (' ', (5, 7), 0), \n",
    "    ('J', (5, 5), 28),\n",
    "    ('i', (3, 6), -4),\n",
    "    ('e', (4, 6), -2) \n",
    "]"
   ]
  },
  {
   "cell_type": "code",
   "execution_count": null,
   "id": "9e698b7d-5873-43a8-92e2-04f4e8c97a4f",
   "metadata": {},
   "outputs": [],
   "source": [
    "# Start plotting and display my name\n",
    "fig, axs = plt.subplots(1, len(name_data), figsize=(18, 4))\n",
    "fig.suptitle(\n",
    "    \"My name is Phung Yu Jie, and I am slicing the image Group_T.png to extract my name\",\n",
    "    fontsize=20\n",
    ")\n",
    "\n",
    "for i, (char, (row, col), degrees) in enumerate(name_data):\n",
    "    # Crop the letter\n",
    "    letter_img = crop_letter(img, row, col)\n",
    "\n",
    "    if degrees != 0:\n",
    "        letter_img = rotate(letter_img, angle=degrees, resize=True, mode='constant', cval=1.0)\n",
    "    \n",
    "    # Trim the outer space\n",
    "    letter_img = trim_outer_space(letter_img, trim_size=50)\n",
    "    \n",
    "    axs[i].imshow(letter_img)\n",
    "    axs[i].axis('off')\n",
    "\n",
    "plt.show()"
   ]
  },
  {
   "cell_type": "markdown",
   "id": "a41c251b-8c88-42ec-be56-97fe98aa0b89",
   "metadata": {
    "jp-MarkdownHeadingCollapsed": true
   },
   "source": [
    "### Sanjivan Prakash"
   ]
  },
  {
   "cell_type": "markdown",
   "id": "9571f6db-e40f-4e9c-8d4a-c70a6c7bd563",
   "metadata": {
    "jp-MarkdownHeadingCollapsed": true
   },
   "source": [
    "#### Task 1"
   ]
  },
  {
   "cell_type": "code",
   "execution_count": null,
   "id": "a5250787-807a-45aa-9e7d-327163afa889",
   "metadata": {},
   "outputs": [],
   "source": [
    "import pandas as pd\n",
    "import numpy as np\n",
    "from sklearn.tree import DecisionTreeRegressor\n",
    "from sklearn.model_selection import train_test_split\n",
    "from sklearn.metrics import mean_squared_error\n",
    "import matplotlib.pyplot as plt\n",
    "import seaborn as sns\n",
    "\n",
    "data = pd.read_csv(r\"C:\\Users\\Hp\\Downloads\\extracted_dataset\\Section A\\Dataset A\\partA.csv\")\n",
    "\n",
    "input_columns = [col for col in data.columns if col.startswith('in_')]\n",
    "output_columns = [col for col in data.columns if col.startswith('out_')]\n",
    "\n",
    "X = data[input_columns]\n",
    "y = data[output_columns]\n",
    "\n",
    "X_train, X_test, y_train, y_test = train_test_split(X, y, test_size=0.2, random_state=42)\n",
    "\n",
    "dt_model = DecisionTreeRegressor(random_state=42)\n",
    "dt_model.fit(X_train, y_train)\n",
    "\n",
    "y_pred_train = dt_model.predict(X_train)\n",
    "y_pred_test = dt_model.predict(X_test)\n",
    "\n",
    "mse_train = mean_squared_error(y_train, y_pred_train)\n",
    "mse_test = mean_squared_error(y_test, y_pred_test)\n",
    "\n",
    "print(\"Decision Tree MSE (Train):\", mse_train)\n",
    "print(\"Decision Tree MSE (Test):\", mse_test)\n",
    "\n",
    "plt.figure(figsize=(8, 5))\n",
    "sns.barplot(x=dt_model.feature_importances_, y=input_columns)\n",
    "plt.title('Feature Importance in Decision Tree Regression')\n",
    "plt.xlabel('Importance')\n",
    "plt.ylabel('Features')\n",
    "plt.tight_layout()\n",
    "plt.show()\n"
   ]
  },
  {
   "cell_type": "markdown",
   "id": "e5d1bb02-654d-435c-97a5-7f830e419077",
   "metadata": {},
   "source": [
    "#### Task 2"
   ]
  },
  {
   "cell_type": "code",
   "execution_count": null,
   "id": "3a83d28b-d969-49ce-9ce9-2990b79f2fad",
   "metadata": {},
   "outputs": [],
   "source": [
    "import pandas as pd\n",
    "import numpy as np\n",
    "from sklearn.neural_network import MLPRegressor\n",
    "from sklearn.model_selection import train_test_split\n",
    "from sklearn.metrics import mean_squared_error\n",
    "import matplotlib.pyplot as plt\n",
    "import seaborn as sns\n",
    "\n",
    "data = pd.read_csv(r\"partA.csv\")\n",
    "\n",
    "input_columns = [col for col in data.columns if col.startswith('in_')]\n",
    "output_columns = [col for col in data.columns if col.startswith('out_')]\n",
    "\n",
    "X = data[input_columns]\n",
    "y = data[output_columns]\n",
    "\n",
    "X_train, X_test, y_train, y_test = train_test_split(X, y, test_size=0.2, random_state=42)\n",
    "\n",
    "mlp_model = MLPRegressor(hidden_layer_sizes=(256, 128), max_iter=500, random_state=42)\n",
    "\n",
    "mlp_model.fit(X_train, y_train)\n",
    "\n",
    "y_pred_train = mlp_model.predict(X_train)\n",
    "y_pred_test = mlp_model.predict(X_test)\n",
    "\n",
    "mse_train = mean_squared_error(y_train, y_pred_train)\n",
    "mse_test = mean_squared_error(y_test, y_pred_test)\n",
    "\n",
    "print(\"MLP Regressor MSE (Train):\", mse_train)\n",
    "print(\"MLP Regressor MSE (Test):\", mse_test)"
   ]
  },
  {
   "cell_type": "markdown",
   "id": "032683e2-ab4b-40b2-bd36-84d2167f087d",
   "metadata": {},
   "source": [
    "#### Task 3"
   ]
  },
  {
   "cell_type": "code",
   "execution_count": null,
   "id": "e1afff7d-bc27-42fe-9ff1-6db10a300902",
   "metadata": {},
   "outputs": [],
   "source": [
    "import pandas as pd\n",
    "import numpy as np\n",
    "from sklearn.tree import DecisionTreeRegressor\n",
    "from sklearn.neural_network import MLPRegressor\n",
    "from sklearn.model_selection import cross_val_score, KFold\n",
    "from sklearn.multioutput import MultiOutputRegressor\n",
    "\n",
    "data = pd.read_csv(r\"partA.csv\")\n",
    "\n",
    "input_columns = [col for col in data.columns if col.startswith('in_')]\n",
    "output_columns = [col for col in data.columns if col.startswith('out_')]\n",
    "\n",
    "X = data[input_columns]\n",
    "y = data[output_columns]\n",
    "\n",
    "cv = KFold(n_splits=10, shuffle=True, random_state=42)\n",
    "\n",
    "dt_model = MultiOutputRegressor(DecisionTreeRegressor(random_state=42))\n",
    "dt_cv_scores = -cross_val_score(dt_model, X, y, cv=cv, scoring='neg_mean_squared_error')\n",
    "dt_avg_mse = dt_cv_scores.mean()\n",
    "print(\"Decision Tree Cross-Validation Average MSE:\", dt_avg_mse)\n",
    "\n",
    "mlp_model = MultiOutputRegressor(MLPRegressor(hidden_layer_sizes=(256, 128),\n",
    "                                              max_iter=500,\n",
    "                                              random_state=42))\n",
    "mlp_cv_scores = -cross_val_score(mlp_model, X, y, cv=cv, scoring='neg_mean_squared_error')\n",
    "mlp_avg_mse = mlp_cv_scores.mean()\n",
    "print(\"MLP Regressor Cross-Validation Average MSE:\", mlp_avg_mse)"
   ]
  },
  {
   "cell_type": "markdown",
   "id": "8fe8340f",
   "metadata": {},
   "source": [
    "PART - B"
   ]
  },
  {
   "cell_type": "code",
   "execution_count": null,
   "id": "b235e3e3",
   "metadata": {},
   "outputs": [],
   "source": [
    "import pandas as pd\n",
    "import numpy as np\n",
    "from sklearn.tree import DecisionTreeRegressor\n",
    "from sklearn.neural_network import MLPRegressor\n",
    "from sklearn.model_selection import cross_val_score, KFold\n",
    "from sklearn.multioutput import MultiOutputRegressor\n",
    "\n",
    "data = pd.read_csv(r\"partA.csv\")\n",
    "\n",
    "input_columns = [col for col in data.columns if col.startswith('in_')]\n",
    "output_columns = [col for col in data.columns if col.startswith('out_')]\n",
    "\n",
    "X = data[input_columns]\n",
    "y = data[output_columns]\n",
    "\n",
    "cv = KFold(n_splits=10, shuffle=True, random_state=42)\n",
    "\n",
    "dt_model = MultiOutputRegressor(DecisionTreeRegressor(random_state=42))\n",
    "dt_cv_scores = -cross_val_score(dt_model, X, y, cv=cv, scoring='neg_mean_squared_error')\n",
    "dt_avg_mse = dt_cv_scores.mean()\n",
    "print(\"Decision Tree Cross-Validation Average MSE:\", dt_avg_mse)\n",
    "\n",
    "mlp_model = MultiOutputRegressor(MLPRegressor(hidden_layer_sizes=(256, 128),\n",
    "                                              max_iter=500,\n",
    "                                              random_state=42))\n",
    "mlp_cv_scores = -cross_val_score(mlp_model, X, y, cv=cv, scoring='neg_mean_squared_error')\n",
    "mlp_avg_mse = mlp_cv_scores.mean()\n",
    "print(\"MLP Regressor Cross-Validation Average MSE:\", mlp_avg_mse)\n",
    "[12:35 am, 17/04/2025] Thaaa 🙂‍↕️: import matplotlib.pyplot as plt\n",
    "import numpy as np\n",
    "from skimage import io, transform, img_as_ubyte\n",
    "\n",
    "def extract_name():\n",
    "    try:\n",
    "        image_path = r\"Group_T.png\"\n",
    "        image = io.imread(image_path)\n",
    "    except Exception as e:\n",
    "        print(f\"Error loading image: {str(e)}\")\n",
    "        return None\n",
    "\n",
    "    rows, cols = 6, 9\n",
    "    cell_height = image.shape[0] // rows\n",
    "    cell_width = image.shape[1] // cols\n",
    "    padding = 5\n",
    "\n",
    "    letter_positions = {\n",
    "        'S1': (3, 8), 'A1': (2, 0), 'N1': (0, 4), 'J': (4, 0),\n",
    "        'I': (3, 6), 'V': (0, 3), 'A2': (2, 0), 'N2': (0, 4),\n",
    "        'P': (1, 0), 'R': (2, 2), 'A3': (2, 0), 'K': (0, 7),\n",
    "        'A4': (2, 0), 's': (0, 2), 'H': (5, 4),\n",
    "    }\n",
    "\n",
    "    letter_rotation_map = {\n",
    "        'S1': -30, 'A1': -27, 'N1': -18, 'J': -11,\n",
    "        'I': -5, 'V': 10, 'A2': -27, 'N2': -18,\n",
    "        'P': -27, 'R': -13, 'A3': -27, 'K': -25,\n",
    "        'A4': -27, 's': 0, 'H': 25\n",
    "    }\n",
    "\n",
    "    def rotate_letter(img, angle):\n",
    "        if angle == 0:\n",
    "            return img\n",
    "        return img_as_ubyte(transform.rotate(img, angle, resize=True, mode='edge'))\n",
    "\n",
    "    def extract_letter(key):\n",
    "        if key not in letter_positions:\n",
    "            raise ValueError(f\"Letter key '{key}' not found.\")\n",
    "\n",
    "        row, col = letter_positions[key]\n",
    "        try:\n",
    "            top = row * cell_height + padding\n",
    "            bottom = (row + 1) * cell_height - padding\n",
    "            left = col * cell_width + padding\n",
    "            right = (col + 1) * cell_width - padding\n",
    "            letter_img = image[top:bottom, left:right]\n",
    "\n",
    "            angle = letter_rotation_map.get(key, 0)\n",
    "            if angle != 0:\n",
    "                letter_img = rotate_letter(letter_img, angle)\n",
    "\n",
    "            if key == 's':\n",
    "                shrink_factor = 0.85\n",
    "                resized = transform.resize(letter_img,\n",
    "                                           (int(cell_height * shrink_factor), int(cell_width * shrink_factor)),\n",
    "                                           preserve_range=True).astype(np.uint8)\n",
    "                pad_top = int(cell_height * 0.15)\n",
    "                pad_left = (cell_width - resized.shape[1]) // 2\n",
    "                padded = np.ones((cell_height, cell_width, 3), dtype=np.uint8) * 255\n",
    "                padded[pad_top:pad_top + resized.shape[0], pad_left:pad_left + resized.shape[1]] = resized\n",
    "                letter_img = padded\n",
    "            else:\n",
    "                letter_img = transform.resize(letter_img, (cell_height, cell_width),\n",
    "                                              preserve_range=True).astype(np.uint8)\n",
    "\n",
    "            return letter_img\n",
    "        except Exception as e:\n",
    "            raise RuntimeError(f\"Failed to extract '{key}': {str(e)}\")\n",
    "\n",
    "    def build_name(name_keys, spacing=15):\n",
    "        letters = []\n",
    "        for i, key in enumerate(name_keys):\n",
    "            if key == ' ':\n",
    "                blank = np.ones((cell_height, spacing // 2, 3), dtype=np.uint8) * 255\n",
    "                letters.append(blank)\n",
    "            else:\n",
    "                try:\n",
    "                    letter_img = extract_letter(key)\n",
    "                    letters.append(letter_img)\n",
    "                    if i != len(name_keys) - 1:\n",
    "                        space = np.ones((cell_height, spacing, 3), dtype=np.uint8) * 255\n",
    "                        letters.append(space)\n",
    "                except Exception as e:\n",
    "                    print(f\"Warning: {str(e)}\")\n",
    "                    placeholder = np.ones((cell_height, cell_width, 3), dtype=np.uint8) * 200\n",
    "                    letters.append(placeholder)\n",
    "        return np.hstack(letters) if letters else None\n",
    "\n",
    "    first_name_keys = ['S1', 'A1', 'N1', 'J', 'I', 'V', 'A2', 'N2']\n",
    "    last_name_keys = ['P', 'R', 'A3', 'K', 'A4', 's', 'H']\n",
    "\n",
    "    first_name = build_name(first_name_keys)\n",
    "    last_name = build_name(last_name_keys)\n",
    "\n",
    "    if first_name is None or last_name is None:\n",
    "        print(\"Error: Failed to build name components\")\n",
    "        return None\n",
    "\n",
    "    name_space = np.ones((cell_height, 50, 3), dtype=np.uint8) * 255\n",
    "    full_name = np.hstack([first_name, name_space, last_name])\n",
    "\n",
    "    border = 30\n",
    "    final_image = np.ones((\n",
    "        cell_height + 2 * border,\n",
    "        full_name.shape[1] + 2 * border,\n",
    "        3\n",
    "    ), dtype=np.uint8) * 255\n",
    "    final_image[border:border + cell_height, border:border + full_name.shape[1]] = full_name\n",
    "\n",
    "    plt.figure(figsize=(12, 3))\n",
    "    plt.imshow(final_image)\n",
    "    plt.text(\n",
    "        10, 10,\n",
    "        \"My name is Sanjivan Prakash, and I am slicing the image Group_T.png to extract my name.\",\n",
    "        fontsize=10,\n",
    "        color='black',\n",
    "        fontfamily='sans-serif'\n",
    "    )\n",
    "    plt.axis('off')\n",
    "\n",
    "    output_path = \"Sanjivan_Prakash_Extracted.png\"\n",
    "    io.imsave(output_path, final_image)\n",
    "    print(f\"Saved extracted name to {output_path}\")\n",
    "    plt.show()\n",
    "\n",
    "    return final_image\n",
    "\n",
    "extracted_name = extract_name()"
   ]
  },
  {
   "cell_type": "markdown",
   "id": "1cef45b8-1fab-41dd-805d-55c3aacce04c",
   "metadata": {
    "jp-MarkdownHeadingCollapsed": true
   },
   "source": [
    "### Athul Praveen"
   ]
  },
  {
   "cell_type": "markdown",
   "id": "77c8d2f6-5a0c-4f3c-bb48-819214fee8c2",
   "metadata": {
    "jp-MarkdownHeadingCollapsed": true
   },
   "source": [
    "#### Section A Part A\n",
    "#### Task 1"
   ]
  },
  {
   "cell_type": "code",
   "execution_count": null,
   "id": "e29c0fed-9930-48aa-b6d2-c1847d3693f2",
   "metadata": {},
   "outputs": [],
   "source": [
    "import pandas as pd\n",
    "from sklearn.model_selection import train_test_split\n",
    "from sklearn.tree import DecisionTreeRegressor\n",
    "from matplotlib import pyplot as plt\n",
    "from sklearn.neural_network import MLPRegressor\n",
    "from sklearn.metrics import mean_squared_error\n",
    "from sklearn.model_selection import cross_val_score, KFold\n",
    "from sklearn.multioutput import MultiOutputRegressor\n",
    "from matplotlib import pyplot as plt\n",
    "from skimage import io\n",
    "from skimage.transform import rotate"
   ]
  },
  {
   "cell_type": "code",
   "execution_count": null,
   "id": "1f2f2d6e-a256-49d7-8857-11bf7de1713a",
   "metadata": {},
   "outputs": [],
   "source": [
    "df=pd.read_csv(\"partA.csv\")"
   ]
  },
  {
   "cell_type": "code",
   "execution_count": null,
   "id": "958873e6-ec62-48c9-b10d-656b748886fe",
   "metadata": {},
   "outputs": [],
   "source": [
    "in_ = df.filter(regex='in_')\n",
    "out_ = df.filter(regex='out_')"
   ]
  },
  {
   "cell_type": "code",
   "execution_count": null,
   "id": "a9bb1c28-9f6c-4d68-9cce-76790bc16e2c",
   "metadata": {},
   "outputs": [],
   "source": [
    "in_"
   ]
  },
  {
   "cell_type": "code",
   "execution_count": null,
   "id": "e2fe47df-f42e-4f7a-872c-6745191c12db",
   "metadata": {},
   "outputs": [],
   "source": [
    "out_"
   ]
  },
  {
   "cell_type": "code",
   "execution_count": null,
   "id": "32cfb85b-65ad-4b67-a4b1-c8b867136830",
   "metadata": {},
   "outputs": [],
   "source": [
    "x_train, x_test, y_train, y_test = train_test_split(in_, out_, test_size=0.3, random_state=0)"
   ]
  },
  {
   "cell_type": "code",
   "execution_count": null,
   "id": "395f7ae5-a116-4294-b89b-a9652bb52121",
   "metadata": {},
   "outputs": [],
   "source": [
    "# Evaluate MSE for different tree depths\n",
    "mse_scores = []\n",
    "\n",
    "for depth in range(1, 21):\n",
    "    t_model = DecisionTreeRegressor(max_depth=depth, random_state=0)\n",
    "    t_model.fit(x_train, y_train)\n",
    "    y_pred = t_model.predict(x_test)\n",
    "    mse = mean_squared_error(y_test, y_pred)\n",
    "    mse_scores.append(mse)\n",
    "    print(f\"Depth: {depth}  |  MSE: {mse:.4f}\")\n",
    "\n",
    "# Find the best depth (lowest MSE)\n",
    "best_depth = mse_scores.index(min(mse_scores)) + 1\n",
    "best_mse = min(mse_scores)\n",
    "\n",
    "# Plotting the results\n",
    "plt.figure(figsize=(10, 6))\n",
    "plt.plot(range(1, 21), mse_scores, marker='o', linestyle='-', color='tomato', label='MSE')\n",
    "plt.axvline(x=best_depth, color='green', linestyle='--', label=f'Best Depth = {best_depth}')\n",
    "plt.title(\"Decision Tree Depth vs Mean Squared Error\", fontsize=14)\n",
    "plt.xlabel(\"Tree Depth\", fontsize=12)\n",
    "plt.ylabel(\"Mean Squared Error\", fontsize=12)\n",
    "plt.grid(True, linestyle='--', alpha=0.7)\n",
    "plt.legend()\n",
    "plt.tight_layout()\n",
    "plt.show()\n",
    "\n",
    "# Final Answer Summary\n",
    "print(f\"Best Tree Depth: {best_depth}\")\n",
    "print(f\"Lowest MSE: {best_mse:.4f}\")"
   ]
  },
  {
   "cell_type": "markdown",
   "id": "a1d19b6ac9a82d1c",
   "metadata": {
    "jp-MarkdownHeadingCollapsed": true
   },
   "source": [
    "#### 1)\n",
    "#### At max_depth = 6, the model achieves the lowest mse= 0.1790"
   ]
  },
  {
   "cell_type": "markdown",
   "id": "ea1d3152-791c-4bcc-adc8-55419a12ad9b",
   "metadata": {},
   "source": [
    "#### Task 2"
   ]
  },
  {
   "cell_type": "code",
   "execution_count": null,
   "id": "5a554373-34e9-400a-9c62-c86be3433082",
   "metadata": {},
   "outputs": [],
   "source": [
    "t_model1 = MLPRegressor(hidden_layer_sizes=(256, 128), max_iter=500, random_state=42)\n",
    "t_model1.fit(x_train, y_train)"
   ]
  },
  {
   "cell_type": "code",
   "execution_count": null,
   "id": "03af739d-8f52-4a12-9f1c-4de698c4e259",
   "metadata": {},
   "outputs": [],
   "source": [
    "y_pred_train = t_model1.predict(x_train)\n",
    "y_pred_test = t_model1.predict(x_test)"
   ]
  },
  {
   "cell_type": "code",
   "execution_count": null,
   "id": "248ade80-7584-4dc4-8014-196bda30f1c8",
   "metadata": {},
   "outputs": [],
   "source": [
    "train_mse = mean_squared_error(y_train, y_pred_train)\n",
    "test_mse = mean_squared_error(y_test, y_pred_test)\n",
    "\n",
    "# Print the results\n",
    "print(\"Train MSE:\", train_mse)\n",
    "print(\"Test MSE:\", test_mse)"
   ]
  },
  {
   "cell_type": "markdown",
   "id": "beb71fd4d7b3352",
   "metadata": {},
   "source": [
    "#### 2)\n",
    "#### Test MSE: 0.02187256356090401\n",
    "#### Train MSE: 0.02467500341700563"
   ]
  },
  {
   "cell_type": "markdown",
   "id": "49d8f87e-ceb2-454d-be23-fd93a33a20e1",
   "metadata": {},
   "source": [
    "#### Task 3"
   ]
  },
  {
   "cell_type": "code",
   "execution_count": null,
   "id": "2e167589-746b-4cc6-b465-af299e5ec02f",
   "metadata": {},
   "outputs": [],
   "source": [
    "new_in_dataset = pd.read_csv(\"new_input_data.csv\")\n",
    "new_out_dataset = pd.read_csv(\"new_output_data.csv\")"
   ]
  },
  {
   "cell_type": "code",
   "execution_count": null,
   "id": "38066443-8907-4ca9-b23e-393b413373bb",
   "metadata": {},
   "outputs": [],
   "source": [
    "wrapped_model1 = MultiOutputRegressor(t_model1)"
   ]
  },
  {
   "cell_type": "code",
   "execution_count": null,
   "id": "c86cca46-ad3a-466c-b719-9414f77041d1",
   "metadata": {},
   "outputs": [],
   "source": [
    "wrapped_model1.fit(x_train, y_train)"
   ]
  },
  {
   "cell_type": "code",
   "execution_count": null,
   "id": "67832faf-1f25-4b0e-b180-8b4a29c88c19",
   "metadata": {},
   "outputs": [],
   "source": [
    "cv_scores = cross_val_score(wrapped_model1, new_in_dataset, new_out_dataset, cv=10, scoring='r2')"
   ]
  },
  {
   "cell_type": "code",
   "execution_count": null,
   "id": "1b285264-46cf-484c-9c65-137bd0f103b7",
   "metadata": {},
   "outputs": [],
   "source": [
    "print(cv_scores.mean())"
   ]
  },
  {
   "cell_type": "code",
   "execution_count": null,
   "id": "ddf12478-d5cc-4d9a-a166-20b94714fb40",
   "metadata": {},
   "outputs": [],
   "source": [
    "wrapped_model= MultiOutputRegressor(t_model)\n",
    "wrapped_model.fit(x_train, y_train)\n",
    "cv_scores = cross_val_score(wrapped_model, new_in_dataset, new_out_dataset, cv=10, scoring='r2')"
   ]
  },
  {
   "cell_type": "code",
   "execution_count": null,
   "id": "6cf09026-b4a3-48ad-ae2f-65386c65c827",
   "metadata": {},
   "outputs": [],
   "source": [
    "print(cv_scores.mean())"
   ]
  },
  {
   "cell_type": "markdown",
   "id": "4878caca936a583a",
   "metadata": {},
   "source": [
    "cv_score= 0.8941417805041034 for mlp\n"
   ]
  },
  {
   "cell_type": "markdown",
   "id": "850e481dfddd241a",
   "metadata": {},
   "source": [
    "cv_score= 0.31235529735804196 for DecisionTree"
   ]
  },
  {
   "cell_type": "markdown",
   "id": "5bba10781bb395b2",
   "metadata": {},
   "source": [
    "#### Part B"
   ]
  },
  {
   "cell_type": "code",
   "execution_count": null,
   "id": "a60367b11e7fea0d",
   "metadata": {},
   "outputs": [],
   "source": [
    "img= io.imread(\"Group_T.png\")\n",
    "plt.imshow(img)"
   ]
  },
  {
   "cell_type": "code",
   "execution_count": null,
   "id": "436f9689eb3a2984",
   "metadata": {},
   "outputs": [],
   "source": [
    "#mapping each letter with its coordinates and rotating it\n",
    "img_A= img[710:780,300:370]\n",
    "img_A= rotate(img_A, 8, mode='edge')\n",
    "img_t= img[710:780,1860:1920]\n",
    "img_t= rotate(img_t, -5, mode='edge')\n",
    "img_h= img[870:950,970:1040]\n",
    "img_h= rotate(img_h, 25, mode='edge')\n",
    "img_u= img[695:770,970:1040]\n",
    "img_u= rotate(img_u, 21, mode='edge')\n",
    "img_l= img[710:780,1190:1260]\n",
    "img_l= rotate(img_l, 30, mode='edge')\n",
    "\n",
    "spacer = img[900:950,1650:1750]\n",
    "\n",
    "img_P= img[215:290,80:150]\n",
    "img_P= rotate(img_P, -27, mode='edge')\n",
    "img_r= img[365:450,520:590]\n",
    "img_r= rotate(img_r, -12, mode='edge')\n",
    "img_a= img[365:443,80:150]\n",
    "img_a= rotate(img_a, -29, mode='edge')\n",
    "img_v= img[30:110,740:810]\n",
    "img_v= rotate(img_v, 10, mode='edge')\n",
    "img_e= img[690:775,1400:1470]\n",
    "img_e= rotate(img_e, -6, mode='edge')\n",
    "img_n= img[23:112,970:1040]\n",
    "img_n= rotate(img_n, -19, mode='edge')"
   ]
  },
  {
   "cell_type": "code",
   "execution_count": null,
   "id": "d6eb181c6def941c",
   "metadata": {},
   "outputs": [],
   "source": [
    "# Combine with gap between first and last name\n",
    "full_name_images = [img_A, img_t, img_h, img_u, img_l, spacer, img_P, img_r, img_a, img_v, img_e, img_e, img_n]\n",
    "\n",
    "# Display\n",
    "fig, axes = plt.subplots(1, len(full_name_images), figsize=(len(full_name_images)*2, 2.5))\n",
    "fig.suptitle(\"My name is Athul Praveen, and I am slicing the image Group_T.png to extract my name\", fontsize=40)\n",
    "\n",
    "for i in range(len(full_name_images)):\n",
    "    axes[i].imshow(full_name_images[i])\n",
    "    axes[i].axis(\"off\")\n",
    "\n",
    "plt.tight_layout()\n",
    "plt.show()"
   ]
  },
  {
   "cell_type": "markdown",
   "id": "33b30bd9-9127-4b95-991f-b57e2a81350d",
   "metadata": {
    "jp-MarkdownHeadingCollapsed": true
   },
   "source": [
    "## Section B"
   ]
  },
  {
   "cell_type": "code",
   "execution_count": null,
   "id": "98fc7561-dfe6-490c-82a4-e3c5a10aa92b",
   "metadata": {},
   "outputs": [],
   "source": [
    "import pandas as pd\n",
    "import numpy as np\n",
    "import matplotlib.pyplot as plt\n",
    "\n",
    "from sklearn.model_selection import KFold, cross_val_score, cross_val_predict, train_test_split\n",
    "from sklearn.preprocessing import OneHotEncoder\n",
    "from sklearn.compose import ColumnTransformer\n",
    "from sklearn.pipeline import Pipeline\n",
    "from sklearn.tree import DecisionTreeRegressor, plot_tree\n",
    "from sklearn.neural_network import MLPRegressor\n",
    "from sklearn.linear_model import LinearRegression  \n",
    "from sklearn.metrics import mean_squared_error\n",
    "\n",
    "\n",
    "\n",
    "#Loading the Dataset\n",
    "\n",
    "df = pd.read_csv(\"partB.csv\")\n",
    "print(\"Columns before renaming:\", df.columns.tolist())\n",
    "\n",
    "rename_mapping = {\n",
    "    \"1st Road Class\": \"1st_Road_Class\",\n",
    "    \"Road Surface\": \"Road_Surface\",\n",
    "    \"Lighting Conditions\": \"Lighting\",\n",
    "    \"Weather Conditions\": \"Weather\",\n",
    "    \"Type of Vehicle\": \"Type_of_Vehicle\"\n",
    "}\n",
    "df.rename(columns=rename_mapping, inplace=True)\n",
    "print(\"Columns after renaming:\", df.columns.tolist())\n",
    "\n",
    "\n",
    "#creating a 'Casualties' column by summing the number of males and femailes\n",
    "\n",
    "if \"Number of Males\" in df.columns and \"Number of Females\" in df.columns:\n",
    "    df['Casualties'] = df[\"Number of Males\"] + df[\"Number of Females\"]\n",
    "else:\n",
    "    raise ValueError(\"Columns for 'Number of Males' and 'Number of Females' are required to compute Casualties.\")\n",
    "\n",
    "\n",
    "#Drop rows with missing values\n",
    "required_columns = [\"Weather\", \"Road_Surface\", \"Lighting\", \"1st_Road_Class\", \"Type_of_Vehicle\", \"Casualties\"]\n",
    "df.dropna(subset=required_columns, inplace=True)\n",
    "\n",
    "print(\"DataFrame shape after cleaning:\", df.shape)"
   ]
  },
  {
   "cell_type": "markdown",
   "id": "87c6fe93-9c7f-453c-ad10-4c7b9b67507a",
   "metadata": {},
   "source": [
    "### Task 1: Predict the casualties"
   ]
  },
  {
   "cell_type": "code",
   "execution_count": null,
   "id": "5a430719-94c6-467a-ae19-239e444db1dc",
   "metadata": {},
   "outputs": [],
   "source": [
    "#Predict casualties using Weather, Road_Surface, Lighting\n",
    "\n",
    "\n",
    "# Define features given in cw sheet\n",
    "features_q1 = [\"Weather\", \"Road_Surface\", \"Lighting\"]\n",
    "target_q1 = \"Casualties\"\n",
    "\n",
    "#create OneHotEncoder pipeline\n",
    "preprocessor_q1 = ColumnTransformer(\n",
    "    transformers=[\n",
    "        (\"cat\", OneHotEncoder(handle_unknown=\"ignore\"), features_q1)\n",
    "    ],\n",
    "    remainder=\"drop\"\n",
    ")\n",
    "\n",
    "model_q1 = LinearRegression()\n",
    "\n",
    "pipeline_q1 = Pipeline(steps=[\n",
    "    (\"preprocessor\", preprocessor_q1),\n",
    "    (\"regressor\", model_q1)\n",
    "])\n",
    "\n",
    "# Perform K-Fold Cross-Validation\n",
    "kf_q1 = KFold(n_splits=10, shuffle=True, random_state=42)\n",
    "scores_q1 = cross_val_score(pipeline_q1, df[features_q1], df[target_q1],\n",
    "                            scoring='neg_mean_squared_error', cv=kf_q1)\n",
    "\n",
    "print(\"\\n--- Question 1 Results ---\")\n",
    "print(\"Features:\", features_q1)\n",
    "print(\"LinearRegression MSE scores (negative):\", scores_q1)\n",
    "print(\"Average MSE (positive):\", -np.mean(scores_q1))"
   ]
  },
  {
   "cell_type": "code",
   "execution_count": null,
   "id": "9337fdce-bf05-4842-849b-56be747938f9",
   "metadata": {},
   "outputs": [],
   "source": [
    "# Split the data for visualization purposes\n",
    "X = df[features_q1]\n",
    "y = df[target_q1]\n",
    "X_train, X_test, y_train, y_test = train_test_split(X, y, test_size=0.2, random_state=42)\n",
    "\n",
    "# Fit the pipeline\n",
    "pipeline_q1.fit(X_train, y_train)\n",
    "\n",
    "# Predict\n",
    "y_pred = pipeline_q1.predict(X_test)\n",
    "\n",
    "# Create a results dataframe\n",
    "results = pd.DataFrame({\n",
    "    'Actual': y_test,\n",
    "    'Predicted': y_pred\n",
    "})\n",
    "results['Abs_Error'] = np.abs(results['Actual'] - results['Predicted'])\n",
    "\n",
    "# Plot\n",
    "plt.figure(figsize=(10, 6))\n",
    "scatter = plt.scatter(results['Actual'], results['Predicted'],\n",
    "                      c=results['Abs_Error'], cmap='coolwarm', alpha=0.6)\n",
    "plt.plot([results['Actual'].min(), results['Actual'].max()],\n",
    "         [results['Actual'].min(), results['Actual'].max()], 'k--')\n",
    "plt.colorbar(scatter, label='Absolute Error')\n",
    "plt.xlabel('Actual Casualties')\n",
    "plt.ylabel('Predicted Casualties')\n",
    "plt.title('Linear Regression Predictions: Actual vs Predicted (Q1)')\n",
    "plt.grid(True)\n",
    "plt.show()"
   ]
  },
  {
   "cell_type": "markdown",
   "id": "4fb497c4-03fc-4ce3-a5a3-76b8be68ffc3",
   "metadata": {},
   "source": [
    "### Discussion\n",
    "#### Task 1: Linear Regression\n",
    "Linear Regression model was used to predict the number of casualties based on three categorical features: weather, road surface, and lighting conditions. All features were one-hot encoded before being input into the model.\n",
    "\n",
    "The model achieved an average Mean Squared Error (MSE) of approximately 2.31. This indicates that while the model can capture some trends from the input features, its predictive performance is limited since Task 1 only uses 3 conditions (weather, road surface, lighting) as input features, the model's performance could be improved by including additional relevant factors like vehicle type given in the partB.csv file when training the model\n",
    "\n",
    "Overall, the results show a basic level of predictive power but highlight the need for richer input data to improve performance."
   ]
  },
  {
   "cell_type": "markdown",
   "id": "b2889256-f3cc-46c5-8cde-931208c83ab4",
   "metadata": {
    "jp-MarkdownHeadingCollapsed": true
   },
   "source": [
    "### Task 2: Decision Tree Regression"
   ]
  },
  {
   "cell_type": "code",
   "execution_count": null,
   "id": "c5bd5d7e-f27a-41f6-b1aa-7c08928da41b",
   "metadata": {},
   "outputs": [],
   "source": [
    "#Define features\n",
    "features_q2 = [\"Weather\", \"Road_Surface\", \"Lighting\", \"1st_Road_Class\", \"Type_of_Vehicle\"]\n",
    "target_q2 = \"Casualties\"\n",
    "\n",
    "preprocessor_q2 = ColumnTransformer(\n",
    "    transformers=[\n",
    "        (\"cat\", OneHotEncoder(handle_unknown=\"ignore\"), features_q2)\n",
    "    ],\n",
    "    remainder=\"drop\"\n",
    ")\n",
    "\n",
    "# 2. Decision Tree Regressor\n",
    "tree_regressor = DecisionTreeRegressor(random_state=42)\n",
    "\n",
    "pipeline_q2 = Pipeline(steps=[\n",
    "    (\"preprocessor\", preprocessor_q2),\n",
    "    (\"regressor\", tree_regressor)\n",
    "])\n",
    "\n",
    "# 3. Cross-Validation\n",
    "kf_q2 = KFold(n_splits=10, shuffle=True, random_state=42)\n",
    "scores_q2 = cross_val_score(pipeline_q2, df[features_q2], df[target_q2],\n",
    "                            scoring='neg_mean_squared_error', cv=kf_q2)\n",
    "\n",
    "print(\"\\n--- Question 2 Results ---\")\n",
    "print(\"Features:\", features_q2)\n",
    "print(\"DecisionTreeRegressor MSE scores (negative):\", scores_q2)\n",
    "print(\"Average MSE (positive):\", -np.mean(scores_q2))"
   ]
  },
  {
   "cell_type": "code",
   "execution_count": null,
   "id": "60b225c4-4882-490d-89aa-07edd138e983",
   "metadata": {},
   "outputs": [],
   "source": [
    "#Fit the pipeline\n",
    "pipeline_q2.fit(df[features_q2], df[target_q2])\n",
    "\n",
    "# etract the trained decision tree model\n",
    "dt_model = pipeline_q2.named_steps[\"regressor\"]\n",
    "\n",
    "# get feature names after OneHotEncoding\n",
    "ohe = pipeline_q2.named_steps[\"preprocessor\"].named_transformers_[\"cat\"]\n",
    "feature_names = ohe.get_feature_names_out(features_q2)\n",
    "\n",
    "#Plot the tree (limited to depth 3 to avoid overfitting)\n",
    "plt.figure(figsize=(20, 10))\n",
    "plot_tree(\n",
    "    dt_model,\n",
    "    feature_names=feature_names,\n",
    "    filled=True,\n",
    "    rounded=True,\n",
    "    fontsize=10,\n",
    "    max_depth=3\n",
    ")\n",
    "plt.title(\"Decision Tree Structure (max depth=3)\")\n",
    "plt.show()\n"
   ]
  },
  {
   "cell_type": "code",
   "execution_count": null,
   "id": "351b3bcc-8ac1-4f93-9b5f-7a518766b729",
   "metadata": {},
   "outputs": [],
   "source": [
    "#Split data for visualization purposes\n",
    "X_train, X_test, y_train, y_test = train_test_split(\n",
    "    df[features_q2], df[target_q2], test_size=0.2, random_state=42\n",
    ")\n",
    "\n",
    "#Fit the pipeline on training data\n",
    "pipeline_q2.fit(X_train, y_train)\n",
    "\n",
    "# Predict on test data\n",
    "y_pred = pipeline_q2.predict(X_test)\n",
    "\n",
    "#Create results DataFrame\n",
    "results = pd.DataFrame({\n",
    "    'Actual': y_test,\n",
    "    'Predicted': y_pred\n",
    "})\n",
    "results['Abs_Error'] = np.abs(results['Actual'] - results['Predicted'])\n",
    "\n",
    "# 5. Plot\n",
    "plt.figure(figsize=(10, 6))\n",
    "scatter = plt.scatter(results['Actual'], results['Predicted'],\n",
    "                      c=results['Abs_Error'], cmap='coolwarm', alpha=0.6)\n",
    "plt.plot([results['Actual'].min(), results['Actual'].max()],\n",
    "         [results['Actual'].min(), results['Actual'].max()], 'k--')\n",
    "plt.colorbar(scatter, label='Absolute Error')\n",
    "plt.xlabel('Actual Casualties')\n",
    "plt.ylabel('Predicted Casualties')\n",
    "plt.title('Decision Tree Predictions: Actual vs Predicted with Error Intensity')\n",
    "plt.grid(True)\n",
    "plt.show()\n"
   ]
  },
  {
   "cell_type": "markdown",
   "id": "cd895e7a-077c-48c2-bc46-c151148d61d6",
   "metadata": {
    "jp-MarkdownHeadingCollapsed": true
   },
   "source": [
    "### Task 2\n",
    "#### Decision Tree Regressor\n",
    "\n",
    "In task 2, a Decision Tree Regressor was trained to predict the number of casualties using five categorical features (weather conditions, road surface, 1st road class, type of vehicle, and lighting conditions).\n",
    "\n",
    "The model was regularized using parameters like max_depth=5 and min_samples_split=10 to prevent overfitting. The evaluation results showed a Mean Squared Error (MSE) of 1.89, indicating a reasonable fit to the data.\n",
    "\n",
    "The scatter plot of actual vs predicted casualties shows that many predictions are close to the ideal diagonal line. The tree visualization at depth 3 for clarity shows how the model splits the data based on features, helping to understand its decision-making process.\n",
    "\n",
    "However, the performance could potentially be improved with more numerical features like vehicle speed, time (24Hr) provided and control overfitting"
   ]
  },
  {
   "cell_type": "markdown",
   "id": "1c14a619-dffd-4bce-bb3d-3645e9dd5595",
   "metadata": {
    "jp-MarkdownHeadingCollapsed": true
   },
   "source": [
    "### Task 3: Neural Network (MLP Regressor)"
   ]
  },
  {
   "cell_type": "code",
   "execution_count": null,
   "id": "e4515811-f126-4adf-b93c-21e8fffbef14",
   "metadata": {},
   "outputs": [],
   "source": [
    "#Define features \n",
    "features_q3 = [\"Weather\", \"Road_Surface\", \"Lighting\", \"1st_Road_Class\", \"Type_of_Vehicle\"]\n",
    "target_q3 = \"Casualties\"\n",
    "\n",
    "preprocessor_q3 = ColumnTransformer(\n",
    "    transformers=[\n",
    "        (\"cat\", OneHotEncoder(handle_unknown=\"ignore\"), features_q3)\n",
    "    ],\n",
    "    remainder=\"drop\"\n",
    ")\n",
    "\n",
    "mlp_regressor = MLPRegressor(\n",
    "    hidden_layer_sizes=(64, 32),\n",
    "    activation='relu',\n",
    "    solver='adam',\n",
    "    max_iter=200,\n",
    "    random_state=42\n",
    ")\n",
    "\n",
    "pipeline_q3 = Pipeline(steps=[\n",
    "    (\"preprocessor\", preprocessor_q3),\n",
    "    (\"regressor\", mlp_regressor)\n",
    "])\n",
    "\n",
    "kf_q3 = KFold(n_splits=10, shuffle=True, random_state=42)\n",
    "scores_q3 = cross_val_score(pipeline_q3, df[features_q3], df[target_q3],\n",
    "                            scoring='neg_mean_squared_error', cv=kf_q3)\n",
    "\n",
    "print(\"\\n--- Question 3 Results ---\")\n",
    "print(\"Features:\", features_q3)\n",
    "print(\"MLPRegressor MSE scores (negative):\", scores_q3)\n",
    "print(\"Average MSE (positive):\", -np.mean(scores_q3))"
   ]
  },
  {
   "cell_type": "code",
   "execution_count": null,
   "id": "75ebade6-34ca-44a7-a30f-eff56ee025cf",
   "metadata": {},
   "outputs": [],
   "source": [
    "#Split the data\n",
    "X_train, X_test, y_train, y_test = train_test_split(\n",
    "    df[features_q3], df[target_q3], test_size=0.2, random_state=42\n",
    ")\n",
    "\n",
    "#Fit the pipeline on training data\n",
    "pipeline_q3.fit(X_train, y_train)\n",
    "\n",
    "#Predict on test data\n",
    "y_pred = pipeline_q3.predict(X_test)\n",
    "\n",
    "#Create results DataFrame\n",
    "results = pd.DataFrame({\n",
    "    'Actual': y_test,\n",
    "    'Predicted': y_pred\n",
    "})\n",
    "results['Abs_Error'] = np.abs(results['Actual'] - results['Predicted'])\n",
    "\n",
    "#Plot Actual vs Predicted with error color\n",
    "plt.figure(figsize=(10, 6))\n",
    "scatter = plt.scatter(results['Actual'], results['Predicted'],\n",
    "                      c=results['Abs_Error'], cmap='coolwarm', alpha=0.6)\n",
    "plt.plot([results['Actual'].min(), results['Actual'].max()],\n",
    "         [results['Actual'].min(), results['Actual'].max()], 'k--')\n",
    "plt.colorbar(scatter, label='Absolute Error')\n",
    "plt.xlabel('Actual Casualties')\n",
    "plt.ylabel('Predicted Casualties')\n",
    "plt.title('MLP Regressor Predictions: Actual vs Predicted with Error Intensity')\n",
    "plt.grid(True)\n",
    "plt.show()\n"
   ]
  },
  {
   "cell_type": "markdown",
   "id": "2b62ecd1-cb66-404e-8de8-f1dbf3754c99",
   "metadata": {
    "jp-MarkdownHeadingCollapsed": true
   },
   "source": [
    "### Discussion\n",
    "### Task 3 Neural Network (MLP Regressor)\n",
    "\n",
    "In task 3, a Multi-Layer Perceptron (MLP) Regressor was trained to predict the number of casualties using five categorical features (weather conditions, road surface, 1st road class, type of vehicle, and lighting conditions). All features were preprocessed using one-hot encoding before training.\n",
    "\n",
    "The neural network was configured with two hidden layers containing 100 and 50 neurons respectively, using ReLU activation and the Adam optimizer. The evaluation results showed a Mean Squared Error (MSE) of 1.88, indicating slightly better performance compared to the decision tree.\n",
    "\n",
    "The scatter plot of actual vs predicted casualties reveals a reasonable alignment with the diagonal line, suggesting that the model captured underlying trends in the data. However, the spread in predictions indicates that the model may still struggle with more complex or outlier cases.\n",
    "\n",
    "Although the MLP is capable of modeling non-linear relationships, its performance could be further improved by incorporating relevant numerical features such as time (24Hr), vehicle speed, or casualty severity, which may help the model learn more patterns in the data.\n"
   ]
  },
  {
   "cell_type": "markdown",
   "id": "f797d7ac-7287-4280-93d4-7bbcd3c338ee",
   "metadata": {
    "jp-MarkdownHeadingCollapsed": true
   },
   "source": [
    "### Task 4: K-Fold Cross-Validation for All Three Models"
   ]
  },
  {
   "cell_type": "code",
   "execution_count": null,
   "id": "597c557a-604c-4d8d-97fa-05e0300f832e",
   "metadata": {},
   "outputs": [],
   "source": [
    "models_for_q4 = {\n",
    "    \"Linear_3Features\": pipeline_q1,  # from Q1\n",
    "    \"DecisionTree_5Features\": pipeline_q2,  # from Q2\n",
    "    \"MLPRegressor_5Features\": pipeline_q3   # from Q3\n",
    "}\n",
    "\n",
    "print(\"\\n--- Question 4 Results (aggregated) ---\")\n",
    "for model_name, pipeline_obj in models_for_q4.items():\n",
    "    # Determine the features used by checking the pipeline’s ColumnTransformer\n",
    "    # For clarity, cross-validation was re-run\n",
    "    kf_q4 = KFold(n_splits=10, shuffle=True, random_state=42)\n",
    "    scores_q4 = cross_val_score(\n",
    "        pipeline_obj,\n",
    "        df[pipeline_obj[\"preprocessor\"].transformers[0][2]],  # i.e., the columns used\n",
    "        df[target_q3],  # or df[target_q1] if it’s the same 'Casualties'\n",
    "        scoring='neg_mean_squared_error',\n",
    "        cv=kf_q4\n",
    "    )\n",
    "    print(f\"Model: {model_name}\")\n",
    "    print(f\"  MSE scores (negative): {scores_q4}\")\n",
    "    print(f\"  Average MSE (positive): {-np.mean(scores_q4)}\")\n",
    "    print()\n"
   ]
  },
  {
   "cell_type": "code",
   "execution_count": null,
   "id": "4d16a6c9-fee1-4544-859b-626997ff1691",
   "metadata": {},
   "outputs": [],
   "source": [
    "# Define the models for Q4\n",
    "models_for_q4 = {\n",
    "    \"Linear_3Features\": pipeline_q1,  # from Q1\n",
    "    \"DecisionTree_5Features\": pipeline_q2,  # from Q2\n",
    "    \"MLPRegressor_5Features\": pipeline_q3   # from Q3\n",
    "}\n",
    "\n",
    "# Initialize a dictionary to hold MSE scores for plotting\n",
    "mse_scores = {}\n",
    "\n",
    "# Calculate MSE scores for each model\n",
    "print(\"\\n--- Question 4 Results (aggregated) ---\")\n",
    "for model_name, pipeline_obj in models_for_q4.items():\n",
    "    # Run cross-validation\n",
    "    kf_q4 = KFold(n_splits=10, shuffle=True, random_state=42)\n",
    "    scores_q4 = cross_val_score(\n",
    "        pipeline_obj,\n",
    "        df[pipeline_obj[\"preprocessor\"].transformers[0][2]],  # i.e., the columns used\n",
    "        df[target_q3],  # or df[target_q1] if it’s the same 'Casualties'\n",
    "        scoring='neg_mean_squared_error',\n",
    "        cv=kf_q4\n",
    "    )\n",
    "    \n",
    "    # Store the MSE scores (make them positive by negating)\n",
    "    mse_scores[model_name] = -scores_q4  # Negating to convert to positive MSE\n",
    "    \n",
    "    # Print the results\n",
    "    print(f\"Model: {model_name}\")\n",
    "    print(f\"  MSE scores (negative): {scores_q4}\")\n",
    "    print(f\"  Average MSE (positive): {-np.mean(scores_q4)}\")\n",
    "    print()\n",
    "\n",
    "# Plotting the MSE scores for each model\n",
    "plt.figure(figsize=(10, 6))\n",
    "for model_name, scores in mse_scores.items():\n",
    "    plt.plot(range(1, len(scores) + 1), scores, marker='o', label=model_name)\n",
    "\n",
    "plt.title(\"MSE Comparison Across 10 Folds for Different Models\")\n",
    "plt.xlabel(\"Fold Number\")\n",
    "plt.ylabel(\"Mean Squared Error (MSE)\")\n",
    "plt.legend()\n",
    "plt.grid(True)\n",
    "plt.show()\n"
   ]
  },
  {
   "cell_type": "markdown",
   "id": "127f82b8-1fe3-4537-9446-a9e50fa39140",
   "metadata": {
    "jp-MarkdownHeadingCollapsed": true
   },
   "source": [
    "### Discussion\n",
    "#### K-Fold Cross-Validation for All Three Models\n",
    "In task 4, 10-fold cross-validation was applied to evaluate the performance and generalizability of the three models: Linear Regression, Decision Tree Regressor, and MLP Regressor. This approach splits the data into 10 subsets, training the model on 9 and testing on the remaining one, repeating the process 10 times to average the results.\n",
    "\n",
    "The Linear Regression model showed relatively consistent performance across folds, with moderate errors, indicating that it generalizes well but may struggle to capture complex patterns due to its simplicity.\n",
    "\n",
    "The Decision Tree model showed slightly higher variability across folds, suggesting sensitivity to the specific training subsets. While its interpretability is a strength, its performance can fluctuate if overfitting is not controlled.\n",
    "\n",
    "The MLP Regressor achieved the lowest average error among the three models, benefiting from its ability to learn non-linear relationships. However, it also showed some variability across folds, likely due to its complexity and the categorical nature of the input features.\n",
    "\n",
    "Overall, cross-validation confirmed that while all three models perform reasonably, the MLP Regressor has the best potential for predictive accuracy, especially if they are enhanced with additional numerical features. Cross-validation also highlighted the importance of model regularization and balanced feature selection to ensure stability across different data splits"
   ]
  },
  {
   "cell_type": "markdown",
   "id": "e5cf1ab9-f874-43cf-8967-93ceb65386bb",
   "metadata": {
    "jp-MarkdownHeadingCollapsed": true
   },
   "source": [
    "### Task 5: Error Analysis for Neural Network"
   ]
  },
  {
   "cell_type": "code",
   "execution_count": null,
   "id": "e611df0d-9797-4ce6-b485-7ec94e40d1be",
   "metadata": {},
   "outputs": [],
   "source": [
    "# We use the pipeline from Q3 (Neural Network)\n",
    "nn_pipeline = pipeline_q3\n",
    "\n",
    "# Obtain cross-validated predictions\n",
    "y_pred = cross_val_predict(nn_pipeline, df[features_q3], df[target_q3], cv=10)\n",
    "\n",
    "# Plot Actual vs. Predicted\n",
    "plt.figure(figsize=(8, 6))\n",
    "plt.scatter(df[target_q3], y_pred, alpha=0.7, color='blue')\n",
    "plt.xlabel(\"Actual Casualties\")\n",
    "plt.ylabel(\"Predicted Casualties (MLPRegressor)\")\n",
    "plt.title(\"Question 5: NN Actual vs Predicted Casualties\")\n",
    "\n",
    "min_val = min(df[target_q3].min(), y_pred.min())\n",
    "max_val = max(df[target_q3].max(), y_pred.max())\n",
    "plt.plot([min_val, max_val], [min_val, max_val], 'r--', lw=2)\n",
    "plt.show()\n",
    "\n",
    "# Residual analysis\n",
    "residuals = df[target_q3] - y_pred\n",
    "plt.figure(figsize=(8, 6))\n",
    "plt.hist(residuals, bins=30, edgecolor='k', color='purple')\n",
    "plt.xlabel(\"Residual (Actual - Predicted)\")\n",
    "plt.ylabel(\"Frequency\")\n",
    "plt.title(\"Question 5: Residual Histogram (MLPRegressor)\")\n",
    "plt.show()\n",
    "\n",
    "# Observations about “slight” vs. “serious” casualties\n",
    "large_error_threshold = 3  \n",
    "large_errors = df[abs(residuals) > large_error_threshold]\n",
    "print(\"Number of predictions with residual > 3 casualties:\", len(large_errors))"
   ]
  },
  {
   "cell_type": "markdown",
   "id": "d6504ccd-6278-49b3-b3c6-9f17da1801d6",
   "metadata": {},
   "source": [
    "### Discussion\n",
    "#### Task 5 Error Analysis for Neural Network\n",
    "\n",
    "The scatter plot of actual vs. predicted casualties shows that the neural network model (MLPRegressor) captures general trends well, especially for lower casualty counts. However, predictions deviate more as casualty numbers increase, indicating reduced accuracy for serious accidents.\n",
    "\n",
    "The residual histogram is roughly centered around zero, suggesting balanced predictions overall. Still, several predictions have large errors (residual > 3), highlighting the model's difficulty in handling severe cases.\n",
    "\n",
    "In summary, the model performs reasonably for slight accidents but struggles with more complex or rare serious cases. Further improvements could include more features or rebalancing the dataset."
   ]
  }
 ],
 "metadata": {
  "kernelspec": {
   "display_name": "Python [conda env:base] *",
   "language": "python",
   "name": "conda-base-py"
  },
  "language_info": {
   "codemirror_mode": {
    "name": "ipython",
    "version": 3
   },
   "file_extension": ".py",
   "mimetype": "text/x-python",
   "name": "python",
   "nbconvert_exporter": "python",
   "pygments_lexer": "ipython3",
   "version": "3.12.7"
  }
 },
 "nbformat": 4,
 "nbformat_minor": 5
}
